{
 "cells": [
  {
   "cell_type": "code",
   "execution_count": 201,
   "metadata": {},
   "outputs": [],
   "source": [
    "import pandas as pd\n",
    "import numpy as np\n",
    "import seaborn as sns\n",
    "import matplotlib.pyplot as plt\n",
    "from sklearn.manifold import TSNE\n"
   ]
  },
  {
   "cell_type": "code",
   "execution_count": 202,
   "metadata": {},
   "outputs": [
    {
     "data": {
      "text/html": [
       "<div>\n",
       "<style scoped>\n",
       "    .dataframe tbody tr th:only-of-type {\n",
       "        vertical-align: middle;\n",
       "    }\n",
       "\n",
       "    .dataframe tbody tr th {\n",
       "        vertical-align: top;\n",
       "    }\n",
       "\n",
       "    .dataframe thead th {\n",
       "        text-align: right;\n",
       "    }\n",
       "</style>\n",
       "<table border=\"1\" class=\"dataframe\">\n",
       "  <thead>\n",
       "    <tr style=\"text-align: right;\">\n",
       "      <th></th>\n",
       "      <th>Domain</th>\n",
       "      <th>Have_IP</th>\n",
       "      <th>Have_At</th>\n",
       "      <th>URL_Length</th>\n",
       "      <th>URL_Depth</th>\n",
       "      <th>Redirection</th>\n",
       "      <th>https_Domain</th>\n",
       "      <th>TinyURL</th>\n",
       "      <th>Prefix/Suffix</th>\n",
       "      <th>DNS_Record</th>\n",
       "      <th>Web_Traffic</th>\n",
       "      <th>Domain_Age</th>\n",
       "      <th>Domain_End</th>\n",
       "      <th>iFrame</th>\n",
       "      <th>Mouse_Over</th>\n",
       "      <th>Right_Click</th>\n",
       "      <th>Web_Forwards</th>\n",
       "      <th>Label</th>\n",
       "    </tr>\n",
       "  </thead>\n",
       "  <tbody>\n",
       "    <tr>\n",
       "      <th>0</th>\n",
       "      <td>graphicriver.net</td>\n",
       "      <td>0</td>\n",
       "      <td>0</td>\n",
       "      <td>1</td>\n",
       "      <td>1</td>\n",
       "      <td>0</td>\n",
       "      <td>0</td>\n",
       "      <td>0</td>\n",
       "      <td>0</td>\n",
       "      <td>0</td>\n",
       "      <td>1</td>\n",
       "      <td>1</td>\n",
       "      <td>1</td>\n",
       "      <td>0</td>\n",
       "      <td>0</td>\n",
       "      <td>1</td>\n",
       "      <td>0</td>\n",
       "      <td>0</td>\n",
       "    </tr>\n",
       "    <tr>\n",
       "      <th>1</th>\n",
       "      <td>ecnavi.jp</td>\n",
       "      <td>0</td>\n",
       "      <td>0</td>\n",
       "      <td>1</td>\n",
       "      <td>1</td>\n",
       "      <td>1</td>\n",
       "      <td>0</td>\n",
       "      <td>0</td>\n",
       "      <td>0</td>\n",
       "      <td>0</td>\n",
       "      <td>1</td>\n",
       "      <td>1</td>\n",
       "      <td>1</td>\n",
       "      <td>0</td>\n",
       "      <td>0</td>\n",
       "      <td>1</td>\n",
       "      <td>0</td>\n",
       "      <td>0</td>\n",
       "    </tr>\n",
       "    <tr>\n",
       "      <th>2</th>\n",
       "      <td>hubpages.com</td>\n",
       "      <td>0</td>\n",
       "      <td>0</td>\n",
       "      <td>1</td>\n",
       "      <td>1</td>\n",
       "      <td>0</td>\n",
       "      <td>0</td>\n",
       "      <td>0</td>\n",
       "      <td>0</td>\n",
       "      <td>0</td>\n",
       "      <td>1</td>\n",
       "      <td>0</td>\n",
       "      <td>1</td>\n",
       "      <td>0</td>\n",
       "      <td>0</td>\n",
       "      <td>1</td>\n",
       "      <td>0</td>\n",
       "      <td>0</td>\n",
       "    </tr>\n",
       "    <tr>\n",
       "      <th>3</th>\n",
       "      <td>extratorrent.cc</td>\n",
       "      <td>0</td>\n",
       "      <td>0</td>\n",
       "      <td>1</td>\n",
       "      <td>3</td>\n",
       "      <td>0</td>\n",
       "      <td>0</td>\n",
       "      <td>0</td>\n",
       "      <td>0</td>\n",
       "      <td>0</td>\n",
       "      <td>1</td>\n",
       "      <td>0</td>\n",
       "      <td>1</td>\n",
       "      <td>0</td>\n",
       "      <td>0</td>\n",
       "      <td>1</td>\n",
       "      <td>0</td>\n",
       "      <td>0</td>\n",
       "    </tr>\n",
       "    <tr>\n",
       "      <th>4</th>\n",
       "      <td>icicibank.com</td>\n",
       "      <td>0</td>\n",
       "      <td>0</td>\n",
       "      <td>1</td>\n",
       "      <td>3</td>\n",
       "      <td>0</td>\n",
       "      <td>0</td>\n",
       "      <td>0</td>\n",
       "      <td>0</td>\n",
       "      <td>0</td>\n",
       "      <td>1</td>\n",
       "      <td>0</td>\n",
       "      <td>1</td>\n",
       "      <td>0</td>\n",
       "      <td>0</td>\n",
       "      <td>1</td>\n",
       "      <td>0</td>\n",
       "      <td>0</td>\n",
       "    </tr>\n",
       "  </tbody>\n",
       "</table>\n",
       "</div>"
      ],
      "text/plain": [
       "             Domain  Have_IP  Have_At  URL_Length  URL_Depth  Redirection  \\\n",
       "0  graphicriver.net        0        0           1          1            0   \n",
       "1         ecnavi.jp        0        0           1          1            1   \n",
       "2      hubpages.com        0        0           1          1            0   \n",
       "3   extratorrent.cc        0        0           1          3            0   \n",
       "4     icicibank.com        0        0           1          3            0   \n",
       "\n",
       "   https_Domain  TinyURL  Prefix/Suffix  DNS_Record  Web_Traffic  Domain_Age  \\\n",
       "0             0        0              0           0            1           1   \n",
       "1             0        0              0           0            1           1   \n",
       "2             0        0              0           0            1           0   \n",
       "3             0        0              0           0            1           0   \n",
       "4             0        0              0           0            1           0   \n",
       "\n",
       "   Domain_End  iFrame  Mouse_Over  Right_Click  Web_Forwards  Label  \n",
       "0           1       0           0            1             0      0  \n",
       "1           1       0           0            1             0      0  \n",
       "2           1       0           0            1             0      0  \n",
       "3           1       0           0            1             0      0  \n",
       "4           1       0           0            1             0      0  "
      ]
     },
     "execution_count": 202,
     "metadata": {},
     "output_type": "execute_result"
    }
   ],
   "source": [
    "df = pd.read_csv('finaldata.csv')\n",
    "df.head()"
   ]
  },
  {
   "cell_type": "code",
   "execution_count": 203,
   "metadata": {},
   "outputs": [
    {
     "data": {
      "text/plain": [
       "(10000, 18)"
      ]
     },
     "execution_count": 203,
     "metadata": {},
     "output_type": "execute_result"
    }
   ],
   "source": [
    "df.shape"
   ]
  },
  {
   "cell_type": "code",
   "execution_count": 204,
   "metadata": {},
   "outputs": [
    {
     "data": {
      "text/plain": [
       "Index(['Domain', 'Have_IP', 'Have_At', 'URL_Length', 'URL_Depth',\n",
       "       'Redirection', 'https_Domain', 'TinyURL', 'Prefix/Suffix', 'DNS_Record',\n",
       "       'Web_Traffic', 'Domain_Age', 'Domain_End', 'iFrame', 'Mouse_Over',\n",
       "       'Right_Click', 'Web_Forwards', 'Label'],\n",
       "      dtype='object')"
      ]
     },
     "execution_count": 204,
     "metadata": {},
     "output_type": "execute_result"
    }
   ],
   "source": [
    "df.columns"
   ]
  },
  {
   "cell_type": "code",
   "execution_count": 205,
   "metadata": {},
   "outputs": [
    {
     "name": "stdout",
     "output_type": "stream",
     "text": [
      "<class 'pandas.core.frame.DataFrame'>\n",
      "RangeIndex: 10000 entries, 0 to 9999\n",
      "Data columns (total 18 columns):\n",
      " #   Column         Non-Null Count  Dtype \n",
      "---  ------         --------------  ----- \n",
      " 0   Domain         10000 non-null  object\n",
      " 1   Have_IP        10000 non-null  int64 \n",
      " 2   Have_At        10000 non-null  int64 \n",
      " 3   URL_Length     10000 non-null  int64 \n",
      " 4   URL_Depth      10000 non-null  int64 \n",
      " 5   Redirection    10000 non-null  int64 \n",
      " 6   https_Domain   10000 non-null  int64 \n",
      " 7   TinyURL        10000 non-null  int64 \n",
      " 8   Prefix/Suffix  10000 non-null  int64 \n",
      " 9   DNS_Record     10000 non-null  int64 \n",
      " 10  Web_Traffic    10000 non-null  int64 \n",
      " 11  Domain_Age     10000 non-null  int64 \n",
      " 12  Domain_End     10000 non-null  int64 \n",
      " 13  iFrame         10000 non-null  int64 \n",
      " 14  Mouse_Over     10000 non-null  int64 \n",
      " 15  Right_Click    10000 non-null  int64 \n",
      " 16  Web_Forwards   10000 non-null  int64 \n",
      " 17  Label          10000 non-null  int64 \n",
      "dtypes: int64(17), object(1)\n",
      "memory usage: 1.4+ MB\n"
     ]
    }
   ],
   "source": [
    "df.info()"
   ]
  },
  {
   "cell_type": "code",
   "execution_count": 206,
   "metadata": {},
   "outputs": [
    {
     "data": {
      "image/png": "[encoded data removed]",
      "text/plain": [
       "<Figure size 1080x1080 with 20 Axes>"
      ]
     },
     "metadata": {
      "needs_background": "light"
     },
     "output_type": "display_data"
    }
   ],
   "source": [
    "df.hist(bins = 50,figsize = (15,15))\n",
    "plt.show()"
   ]
  },
  {
   "cell_type": "code",
   "execution_count": 207,
   "metadata": {},
   "outputs": [
    {
     "data": {
      "image/png": "[encoded data removed]",
      "text/plain": [
       "<Figure size 1080x936 with 2 Axes>"
      ]
     },
     "metadata": {
      "needs_background": "light"
     },
     "output_type": "display_data"
    }
   ],
   "source": [
    "plt.figure(figsize=(15,13))\n",
    "sns.heatmap(df.corr())\n",
    "plt.show()"
   ]
  },
  {
   "cell_type": "code",
   "execution_count": 208,
   "metadata": {},
   "outputs": [
    {
     "data": {
      "text/html": [
       "<div>\n",
       "<style scoped>\n",
       "    .dataframe tbody tr th:only-of-type {\n",
       "        vertical-align: middle;\n",
       "    }\n",
       "\n",
       "    .dataframe tbody tr th {\n",
       "        vertical-align: top;\n",
       "    }\n",
       "\n",
       "    .dataframe thead th {\n",
       "        text-align: right;\n",
       "    }\n",
       "</style>\n",
       "<table border=\"1\" class=\"dataframe\">\n",
       "  <thead>\n",
       "    <tr style=\"text-align: right;\">\n",
       "      <th></th>\n",
       "      <th>Have_IP</th>\n",
       "      <th>Have_At</th>\n",
       "      <th>URL_Length</th>\n",
       "      <th>URL_Depth</th>\n",
       "      <th>Redirection</th>\n",
       "      <th>https_Domain</th>\n",
       "      <th>TinyURL</th>\n",
       "      <th>Prefix/Suffix</th>\n",
       "      <th>DNS_Record</th>\n",
       "      <th>Web_Traffic</th>\n",
       "      <th>Domain_Age</th>\n",
       "      <th>Domain_End</th>\n",
       "      <th>iFrame</th>\n",
       "      <th>Mouse_Over</th>\n",
       "      <th>Right_Click</th>\n",
       "      <th>Web_Forwards</th>\n",
       "      <th>Label</th>\n",
       "    </tr>\n",
       "  </thead>\n",
       "  <tbody>\n",
       "    <tr>\n",
       "      <th>Have_IP</th>\n",
       "      <td>1.000000</td>\n",
       "      <td>-0.011308</td>\n",
       "      <td>-0.076021</td>\n",
       "      <td>-0.030466</td>\n",
       "      <td>-0.008700</td>\n",
       "      <td>-0.001052</td>\n",
       "      <td>-0.023430</td>\n",
       "      <td>-0.023841</td>\n",
       "      <td>-0.011425</td>\n",
       "      <td>0.024279</td>\n",
       "      <td>0.047349</td>\n",
       "      <td>0.018799</td>\n",
       "      <td>-0.004701</td>\n",
       "      <td>0.007251</td>\n",
       "      <td>0.001968</td>\n",
       "      <td>-0.003487</td>\n",
       "      <td>0.074367</td>\n",
       "    </tr>\n",
       "    <tr>\n",
       "      <th>Have_At</th>\n",
       "      <td>-0.011308</td>\n",
       "      <td>1.000000</td>\n",
       "      <td>0.067844</td>\n",
       "      <td>0.029944</td>\n",
       "      <td>-0.000297</td>\n",
       "      <td>-0.002151</td>\n",
       "      <td>0.067122</td>\n",
       "      <td>0.018369</td>\n",
       "      <td>0.025073</td>\n",
       "      <td>-0.017002</td>\n",
       "      <td>-0.017072</td>\n",
       "      <td>0.001651</td>\n",
       "      <td>-0.008294</td>\n",
       "      <td>-0.021728</td>\n",
       "      <td>0.004025</td>\n",
       "      <td>-0.030246</td>\n",
       "      <td>0.118419</td>\n",
       "    </tr>\n",
       "    <tr>\n",
       "      <th>URL_Length</th>\n",
       "      <td>-0.076021</td>\n",
       "      <td>0.067844</td>\n",
       "      <td>1.000000</td>\n",
       "      <td>0.439378</td>\n",
       "      <td>0.038482</td>\n",
       "      <td>0.007656</td>\n",
       "      <td>-0.005318</td>\n",
       "      <td>-0.146102</td>\n",
       "      <td>-0.019508</td>\n",
       "      <td>0.063717</td>\n",
       "      <td>0.071029</td>\n",
       "      <td>0.028755</td>\n",
       "      <td>-0.039903</td>\n",
       "      <td>-0.068104</td>\n",
       "      <td>0.030833</td>\n",
       "      <td>-0.023651</td>\n",
       "      <td>-0.541287</td>\n",
       "    </tr>\n",
       "    <tr>\n",
       "      <th>URL_Depth</th>\n",
       "      <td>-0.030466</td>\n",
       "      <td>0.029944</td>\n",
       "      <td>0.439378</td>\n",
       "      <td>1.000000</td>\n",
       "      <td>-0.040189</td>\n",
       "      <td>-0.000478</td>\n",
       "      <td>0.010980</td>\n",
       "      <td>-0.114919</td>\n",
       "      <td>-0.086073</td>\n",
       "      <td>0.075315</td>\n",
       "      <td>-0.070101</td>\n",
       "      <td>-0.061798</td>\n",
       "      <td>-0.039297</td>\n",
       "      <td>-0.105889</td>\n",
       "      <td>-0.002657</td>\n",
       "      <td>-0.051248</td>\n",
       "      <td>-0.119707</td>\n",
       "    </tr>\n",
       "    <tr>\n",
       "      <th>Redirection</th>\n",
       "      <td>-0.008700</td>\n",
       "      <td>-0.000297</td>\n",
       "      <td>0.038482</td>\n",
       "      <td>-0.040189</td>\n",
       "      <td>1.000000</td>\n",
       "      <td>-0.001655</td>\n",
       "      <td>0.026634</td>\n",
       "      <td>-0.025581</td>\n",
       "      <td>-0.027654</td>\n",
       "      <td>0.018784</td>\n",
       "      <td>0.012581</td>\n",
       "      <td>0.025758</td>\n",
       "      <td>-0.012876</td>\n",
       "      <td>-0.017346</td>\n",
       "      <td>0.003096</td>\n",
       "      <td>-0.023193</td>\n",
       "      <td>0.002600</td>\n",
       "    </tr>\n",
       "    <tr>\n",
       "      <th>https_Domain</th>\n",
       "      <td>-0.001052</td>\n",
       "      <td>-0.002151</td>\n",
       "      <td>0.007656</td>\n",
       "      <td>-0.000478</td>\n",
       "      <td>-0.001655</td>\n",
       "      <td>1.000000</td>\n",
       "      <td>-0.004456</td>\n",
       "      <td>-0.004534</td>\n",
       "      <td>0.042243</td>\n",
       "      <td>-0.033112</td>\n",
       "      <td>0.016837</td>\n",
       "      <td>0.006852</td>\n",
       "      <td>-0.004472</td>\n",
       "      <td>-0.003778</td>\n",
       "      <td>0.000374</td>\n",
       "      <td>-0.004852</td>\n",
       "      <td>0.014144</td>\n",
       "    </tr>\n",
       "    <tr>\n",
       "      <th>TinyURL</th>\n",
       "      <td>-0.023430</td>\n",
       "      <td>0.067122</td>\n",
       "      <td>-0.005318</td>\n",
       "      <td>0.010980</td>\n",
       "      <td>0.026634</td>\n",
       "      <td>-0.004456</td>\n",
       "      <td>1.000000</td>\n",
       "      <td>0.087421</td>\n",
       "      <td>0.059078</td>\n",
       "      <td>0.040888</td>\n",
       "      <td>0.095944</td>\n",
       "      <td>0.006812</td>\n",
       "      <td>-0.062000</td>\n",
       "      <td>-0.054771</td>\n",
       "      <td>0.008339</td>\n",
       "      <td>-0.003508</td>\n",
       "      <td>0.072921</td>\n",
       "    </tr>\n",
       "    <tr>\n",
       "      <th>Prefix/Suffix</th>\n",
       "      <td>-0.023841</td>\n",
       "      <td>0.018369</td>\n",
       "      <td>-0.146102</td>\n",
       "      <td>-0.114919</td>\n",
       "      <td>-0.025581</td>\n",
       "      <td>-0.004534</td>\n",
       "      <td>0.087421</td>\n",
       "      <td>1.000000</td>\n",
       "      <td>-0.006793</td>\n",
       "      <td>-0.046843</td>\n",
       "      <td>-0.019954</td>\n",
       "      <td>0.031711</td>\n",
       "      <td>0.050594</td>\n",
       "      <td>0.070263</td>\n",
       "      <td>-0.017527</td>\n",
       "      <td>0.030102</td>\n",
       "      <td>0.302705</td>\n",
       "    </tr>\n",
       "    <tr>\n",
       "      <th>DNS_Record</th>\n",
       "      <td>-0.011425</td>\n",
       "      <td>0.025073</td>\n",
       "      <td>-0.019508</td>\n",
       "      <td>-0.086073</td>\n",
       "      <td>-0.027654</td>\n",
       "      <td>0.042243</td>\n",
       "      <td>0.059078</td>\n",
       "      <td>-0.006793</td>\n",
       "      <td>1.000000</td>\n",
       "      <td>0.065776</td>\n",
       "      <td>0.398583</td>\n",
       "      <td>0.162210</td>\n",
       "      <td>0.103266</td>\n",
       "      <td>0.094410</td>\n",
       "      <td>0.008861</td>\n",
       "      <td>0.042050</td>\n",
       "      <td>0.015943</td>\n",
       "    </tr>\n",
       "    <tr>\n",
       "      <th>Web_Traffic</th>\n",
       "      <td>0.024279</td>\n",
       "      <td>-0.017002</td>\n",
       "      <td>0.063717</td>\n",
       "      <td>0.075315</td>\n",
       "      <td>0.018784</td>\n",
       "      <td>-0.033112</td>\n",
       "      <td>0.040888</td>\n",
       "      <td>-0.046843</td>\n",
       "      <td>0.065776</td>\n",
       "      <td>1.000000</td>\n",
       "      <td>0.013681</td>\n",
       "      <td>0.015998</td>\n",
       "      <td>0.006990</td>\n",
       "      <td>0.057473</td>\n",
       "      <td>0.051495</td>\n",
       "      <td>0.073485</td>\n",
       "      <td>-0.108793</td>\n",
       "    </tr>\n",
       "    <tr>\n",
       "      <th>Domain_Age</th>\n",
       "      <td>0.047349</td>\n",
       "      <td>-0.017072</td>\n",
       "      <td>0.071029</td>\n",
       "      <td>-0.070101</td>\n",
       "      <td>0.012581</td>\n",
       "      <td>0.016837</td>\n",
       "      <td>0.095944</td>\n",
       "      <td>-0.019954</td>\n",
       "      <td>0.398583</td>\n",
       "      <td>0.013681</td>\n",
       "      <td>1.000000</td>\n",
       "      <td>0.329345</td>\n",
       "      <td>-0.034648</td>\n",
       "      <td>-0.018343</td>\n",
       "      <td>0.022232</td>\n",
       "      <td>-0.028860</td>\n",
       "      <td>-0.085077</td>\n",
       "    </tr>\n",
       "    <tr>\n",
       "      <th>Domain_End</th>\n",
       "      <td>0.018799</td>\n",
       "      <td>0.001651</td>\n",
       "      <td>0.028755</td>\n",
       "      <td>-0.061798</td>\n",
       "      <td>0.025758</td>\n",
       "      <td>0.006852</td>\n",
       "      <td>0.006812</td>\n",
       "      <td>0.031711</td>\n",
       "      <td>0.162210</td>\n",
       "      <td>0.015998</td>\n",
       "      <td>0.329345</td>\n",
       "      <td>1.000000</td>\n",
       "      <td>-0.042731</td>\n",
       "      <td>-0.007557</td>\n",
       "      <td>0.006449</td>\n",
       "      <td>-0.022273</td>\n",
       "      <td>-0.068556</td>\n",
       "    </tr>\n",
       "    <tr>\n",
       "      <th>iFrame</th>\n",
       "      <td>-0.004701</td>\n",
       "      <td>-0.008294</td>\n",
       "      <td>-0.039903</td>\n",
       "      <td>-0.039297</td>\n",
       "      <td>-0.012876</td>\n",
       "      <td>-0.004472</td>\n",
       "      <td>-0.062000</td>\n",
       "      <td>0.050594</td>\n",
       "      <td>0.103266</td>\n",
       "      <td>0.006990</td>\n",
       "      <td>-0.034648</td>\n",
       "      <td>-0.042731</td>\n",
       "      <td>1.000000</td>\n",
       "      <td>0.807077</td>\n",
       "      <td>0.008369</td>\n",
       "      <td>0.617989</td>\n",
       "      <td>0.098446</td>\n",
       "    </tr>\n",
       "    <tr>\n",
       "      <th>Mouse_Over</th>\n",
       "      <td>0.007251</td>\n",
       "      <td>-0.021728</td>\n",
       "      <td>-0.068104</td>\n",
       "      <td>-0.105889</td>\n",
       "      <td>-0.017346</td>\n",
       "      <td>-0.003778</td>\n",
       "      <td>-0.054771</td>\n",
       "      <td>0.070263</td>\n",
       "      <td>0.094410</td>\n",
       "      <td>0.057473</td>\n",
       "      <td>-0.018343</td>\n",
       "      <td>-0.007557</td>\n",
       "      <td>0.807077</td>\n",
       "      <td>1.000000</td>\n",
       "      <td>0.007070</td>\n",
       "      <td>0.749877</td>\n",
       "      <td>0.051338</td>\n",
       "    </tr>\n",
       "    <tr>\n",
       "      <th>Right_Click</th>\n",
       "      <td>0.001968</td>\n",
       "      <td>0.004025</td>\n",
       "      <td>0.030833</td>\n",
       "      <td>-0.002657</td>\n",
       "      <td>0.003096</td>\n",
       "      <td>0.000374</td>\n",
       "      <td>0.008339</td>\n",
       "      <td>-0.017527</td>\n",
       "      <td>0.008861</td>\n",
       "      <td>0.051495</td>\n",
       "      <td>0.022232</td>\n",
       "      <td>0.006449</td>\n",
       "      <td>0.008369</td>\n",
       "      <td>0.007070</td>\n",
       "      <td>1.000000</td>\n",
       "      <td>0.009080</td>\n",
       "      <td>-0.026467</td>\n",
       "    </tr>\n",
       "    <tr>\n",
       "      <th>Web_Forwards</th>\n",
       "      <td>-0.003487</td>\n",
       "      <td>-0.030246</td>\n",
       "      <td>-0.023651</td>\n",
       "      <td>-0.051248</td>\n",
       "      <td>-0.023193</td>\n",
       "      <td>-0.004852</td>\n",
       "      <td>-0.003508</td>\n",
       "      <td>0.030102</td>\n",
       "      <td>0.042050</td>\n",
       "      <td>0.073485</td>\n",
       "      <td>-0.028860</td>\n",
       "      <td>-0.022273</td>\n",
       "      <td>0.617989</td>\n",
       "      <td>0.749877</td>\n",
       "      <td>0.009080</td>\n",
       "      <td>1.000000</td>\n",
       "      <td>-0.041376</td>\n",
       "    </tr>\n",
       "    <tr>\n",
       "      <th>Label</th>\n",
       "      <td>0.074367</td>\n",
       "      <td>0.118419</td>\n",
       "      <td>-0.541287</td>\n",
       "      <td>-0.119707</td>\n",
       "      <td>0.002600</td>\n",
       "      <td>0.014144</td>\n",
       "      <td>0.072921</td>\n",
       "      <td>0.302705</td>\n",
       "      <td>0.015943</td>\n",
       "      <td>-0.108793</td>\n",
       "      <td>-0.085077</td>\n",
       "      <td>-0.068556</td>\n",
       "      <td>0.098446</td>\n",
       "      <td>0.051338</td>\n",
       "      <td>-0.026467</td>\n",
       "      <td>-0.041376</td>\n",
       "      <td>1.000000</td>\n",
       "    </tr>\n",
       "  </tbody>\n",
       "</table>\n",
       "</div>"
      ],
      "text/plain": [
       "                Have_IP   Have_At  URL_Length  URL_Depth  Redirection  \\\n",
       "Have_IP        1.000000 -0.011308   -0.076021  -0.030466    -0.008700   \n",
       "Have_At       -0.011308  1.000000    0.067844   0.029944    -0.000297   \n",
       "URL_Length    -0.076021  0.067844    1.000000   0.439378     0.038482   \n",
       "URL_Depth     -0.030466  0.029944    0.439378   1.000000    -0.040189   \n",
       "Redirection   -0.008700 -0.000297    0.038482  -0.040189     1.000000   \n",
       "https_Domain  -0.001052 -0.002151    0.007656  -0.000478    -0.001655   \n",
       "TinyURL       -0.023430  0.067122   -0.005318   0.010980     0.026634   \n",
       "Prefix/Suffix -0.023841  0.018369   -0.146102  -0.114919    -0.025581   \n",
       "DNS_Record    -0.011425  0.025073   -0.019508  -0.086073    -0.027654   \n",
       "Web_Traffic    0.024279 -0.017002    0.063717   0.075315     0.018784   \n",
       "Domain_Age     0.047349 -0.017072    0.071029  -0.070101     0.012581   \n",
       "Domain_End     0.018799  0.001651    0.028755  -0.061798     0.025758   \n",
       "iFrame        -0.004701 -0.008294   -0.039903  -0.039297    -0.012876   \n",
       "Mouse_Over     0.007251 -0.021728   -0.068104  -0.105889    -0.017346   \n",
       "Right_Click    0.001968  0.004025    0.030833  -0.002657     0.003096   \n",
       "Web_Forwards  -0.003487 -0.030246   -0.023651  -0.051248    -0.023193   \n",
       "Label          0.074367  0.118419   -0.541287  -0.119707     0.002600   \n",
       "\n",
       "               https_Domain   TinyURL  Prefix/Suffix  DNS_Record  Web_Traffic  \\\n",
       "Have_IP           -0.001052 -0.023430      -0.023841   -0.011425     0.024279   \n",
       "Have_At           -0.002151  0.067122       0.018369    0.025073    -0.017002   \n",
       "URL_Length         0.007656 -0.005318      -0.146102   -0.019508     0.063717   \n",
       "URL_Depth         -0.000478  0.010980      -0.114919   -0.086073     0.075315   \n",
       "Redirection       -0.001655  0.026634      -0.025581   -0.027654     0.018784   \n",
       "https_Domain       1.000000 -0.004456      -0.004534    0.042243    -0.033112   \n",
       "TinyURL           -0.004456  1.000000       0.087421    0.059078     0.040888   \n",
       "Prefix/Suffix     -0.004534  0.087421       1.000000   -0.006793    -0.046843   \n",
       "DNS_Record         0.042243  0.059078      -0.006793    1.000000     0.065776   \n",
       "Web_Traffic       -0.033112  0.040888      -0.046843    0.065776     1.000000   \n",
       "Domain_Age         0.016837  0.095944      -0.019954    0.398583     0.013681   \n",
       "Domain_End         0.006852  0.006812       0.031711    0.162210     0.015998   \n",
       "iFrame            -0.004472 -0.062000       0.050594    0.103266     0.006990   \n",
       "Mouse_Over        -0.003778 -0.054771       0.070263    0.094410     0.057473   \n",
       "Right_Click        0.000374  0.008339      -0.017527    0.008861     0.051495   \n",
       "Web_Forwards      -0.004852 -0.003508       0.030102    0.042050     0.073485   \n",
       "Label              0.014144  0.072921       0.302705    0.015943    -0.108793   \n",
       "\n",
       "               Domain_Age  Domain_End    iFrame  Mouse_Over  Right_Click  \\\n",
       "Have_IP          0.047349    0.018799 -0.004701    0.007251     0.001968   \n",
       "Have_At         -0.017072    0.001651 -0.008294   -0.021728     0.004025   \n",
       "URL_Length       0.071029    0.028755 -0.039903   -0.068104     0.030833   \n",
       "URL_Depth       -0.070101   -0.061798 -0.039297   -0.105889    -0.002657   \n",
       "Redirection      0.012581    0.025758 -0.012876   -0.017346     0.003096   \n",
       "https_Domain     0.016837    0.006852 -0.004472   -0.003778     0.000374   \n",
       "TinyURL          0.095944    0.006812 -0.062000   -0.054771     0.008339   \n",
       "Prefix/Suffix   -0.019954    0.031711  0.050594    0.070263    -0.017527   \n",
       "DNS_Record       0.398583    0.162210  0.103266    0.094410     0.008861   \n",
       "Web_Traffic      0.013681    0.015998  0.006990    0.057473     0.051495   \n",
       "Domain_Age       1.000000    0.329345 -0.034648   -0.018343     0.022232   \n",
       "Domain_End       0.329345    1.000000 -0.042731   -0.007557     0.006449   \n",
       "iFrame          -0.034648   -0.042731  1.000000    0.807077     0.008369   \n",
       "Mouse_Over      -0.018343   -0.007557  0.807077    1.000000     0.007070   \n",
       "Right_Click      0.022232    0.006449  0.008369    0.007070     1.000000   \n",
       "Web_Forwards    -0.028860   -0.022273  0.617989    0.749877     0.009080   \n",
       "Label           -0.085077   -0.068556  0.098446    0.051338    -0.026467   \n",
       "\n",
       "               Web_Forwards     Label  \n",
       "Have_IP           -0.003487  0.074367  \n",
       "Have_At           -0.030246  0.118419  \n",
       "URL_Length        -0.023651 -0.541287  \n",
       "URL_Depth         -0.051248 -0.119707  \n",
       "Redirection       -0.023193  0.002600  \n",
       "https_Domain      -0.004852  0.014144  \n",
       "TinyURL           -0.003508  0.072921  \n",
       "Prefix/Suffix      0.030102  0.302705  \n",
       "DNS_Record         0.042050  0.015943  \n",
       "Web_Traffic        0.073485 -0.108793  \n",
       "Domain_Age        -0.028860 -0.085077  \n",
       "Domain_End        -0.022273 -0.068556  \n",
       "iFrame             0.617989  0.098446  \n",
       "Mouse_Over         0.749877  0.051338  \n",
       "Right_Click        0.009080 -0.026467  \n",
       "Web_Forwards       1.000000 -0.041376  \n",
       "Label             -0.041376  1.000000  "
      ]
     },
     "execution_count": 208,
     "metadata": {},
     "output_type": "execute_result"
    }
   ],
   "source": [
    "df.corr()"
   ]
  },
  {
   "cell_type": "code",
   "execution_count": null,
   "metadata": {},
   "outputs": [],
   "source": []
  },
  {
   "cell_type": "code",
   "execution_count": 209,
   "metadata": {},
   "outputs": [
    {
     "data": {
      "text/html": [
       "<div>\n",
       "<style scoped>\n",
       "    .dataframe tbody tr th:only-of-type {\n",
       "        vertical-align: middle;\n",
       "    }\n",
       "\n",
       "    .dataframe tbody tr th {\n",
       "        vertical-align: top;\n",
       "    }\n",
       "\n",
       "    .dataframe thead th {\n",
       "        text-align: right;\n",
       "    }\n",
       "</style>\n",
       "<table border=\"1\" class=\"dataframe\">\n",
       "  <thead>\n",
       "    <tr style=\"text-align: right;\">\n",
       "      <th></th>\n",
       "      <th>Have_IP</th>\n",
       "      <th>Have_At</th>\n",
       "      <th>URL_Length</th>\n",
       "      <th>URL_Depth</th>\n",
       "      <th>Redirection</th>\n",
       "      <th>https_Domain</th>\n",
       "      <th>TinyURL</th>\n",
       "      <th>Prefix/Suffix</th>\n",
       "      <th>DNS_Record</th>\n",
       "      <th>Web_Traffic</th>\n",
       "      <th>Domain_Age</th>\n",
       "      <th>Domain_End</th>\n",
       "      <th>iFrame</th>\n",
       "      <th>Mouse_Over</th>\n",
       "      <th>Right_Click</th>\n",
       "      <th>Web_Forwards</th>\n",
       "      <th>Label</th>\n",
       "    </tr>\n",
       "  </thead>\n",
       "  <tbody>\n",
       "    <tr>\n",
       "      <th>count</th>\n",
       "      <td>10000.000000</td>\n",
       "      <td>10000.000000</td>\n",
       "      <td>10000.000000</td>\n",
       "      <td>10000.000000</td>\n",
       "      <td>10000.000000</td>\n",
       "      <td>10000.000000</td>\n",
       "      <td>10000.000000</td>\n",
       "      <td>10000.000000</td>\n",
       "      <td>10000.000000</td>\n",
       "      <td>10000.000000</td>\n",
       "      <td>10000.000000</td>\n",
       "      <td>10000.0000</td>\n",
       "      <td>10000.000000</td>\n",
       "      <td>10000.00000</td>\n",
       "      <td>10000.00000</td>\n",
       "      <td>10000.000000</td>\n",
       "      <td>10000.000000</td>\n",
       "    </tr>\n",
       "    <tr>\n",
       "      <th>mean</th>\n",
       "      <td>0.005500</td>\n",
       "      <td>0.022600</td>\n",
       "      <td>0.773400</td>\n",
       "      <td>3.072000</td>\n",
       "      <td>0.013500</td>\n",
       "      <td>0.000200</td>\n",
       "      <td>0.090300</td>\n",
       "      <td>0.093200</td>\n",
       "      <td>0.100800</td>\n",
       "      <td>0.845700</td>\n",
       "      <td>0.413700</td>\n",
       "      <td>0.8099</td>\n",
       "      <td>0.090900</td>\n",
       "      <td>0.06660</td>\n",
       "      <td>0.99930</td>\n",
       "      <td>0.105300</td>\n",
       "      <td>0.500000</td>\n",
       "    </tr>\n",
       "    <tr>\n",
       "      <th>std</th>\n",
       "      <td>0.073961</td>\n",
       "      <td>0.148632</td>\n",
       "      <td>0.418653</td>\n",
       "      <td>2.128631</td>\n",
       "      <td>0.115408</td>\n",
       "      <td>0.014141</td>\n",
       "      <td>0.286625</td>\n",
       "      <td>0.290727</td>\n",
       "      <td>0.301079</td>\n",
       "      <td>0.361254</td>\n",
       "      <td>0.492521</td>\n",
       "      <td>0.3924</td>\n",
       "      <td>0.287481</td>\n",
       "      <td>0.24934</td>\n",
       "      <td>0.02645</td>\n",
       "      <td>0.306955</td>\n",
       "      <td>0.500025</td>\n",
       "    </tr>\n",
       "    <tr>\n",
       "      <th>min</th>\n",
       "      <td>0.000000</td>\n",
       "      <td>0.000000</td>\n",
       "      <td>0.000000</td>\n",
       "      <td>0.000000</td>\n",
       "      <td>0.000000</td>\n",
       "      <td>0.000000</td>\n",
       "      <td>0.000000</td>\n",
       "      <td>0.000000</td>\n",
       "      <td>0.000000</td>\n",
       "      <td>0.000000</td>\n",
       "      <td>0.000000</td>\n",
       "      <td>0.0000</td>\n",
       "      <td>0.000000</td>\n",
       "      <td>0.00000</td>\n",
       "      <td>0.00000</td>\n",
       "      <td>0.000000</td>\n",
       "      <td>0.000000</td>\n",
       "    </tr>\n",
       "    <tr>\n",
       "      <th>25%</th>\n",
       "      <td>0.000000</td>\n",
       "      <td>0.000000</td>\n",
       "      <td>1.000000</td>\n",
       "      <td>2.000000</td>\n",
       "      <td>0.000000</td>\n",
       "      <td>0.000000</td>\n",
       "      <td>0.000000</td>\n",
       "      <td>0.000000</td>\n",
       "      <td>0.000000</td>\n",
       "      <td>1.000000</td>\n",
       "      <td>0.000000</td>\n",
       "      <td>1.0000</td>\n",
       "      <td>0.000000</td>\n",
       "      <td>0.00000</td>\n",
       "      <td>1.00000</td>\n",
       "      <td>0.000000</td>\n",
       "      <td>0.000000</td>\n",
       "    </tr>\n",
       "    <tr>\n",
       "      <th>50%</th>\n",
       "      <td>0.000000</td>\n",
       "      <td>0.000000</td>\n",
       "      <td>1.000000</td>\n",
       "      <td>3.000000</td>\n",
       "      <td>0.000000</td>\n",
       "      <td>0.000000</td>\n",
       "      <td>0.000000</td>\n",
       "      <td>0.000000</td>\n",
       "      <td>0.000000</td>\n",
       "      <td>1.000000</td>\n",
       "      <td>0.000000</td>\n",
       "      <td>1.0000</td>\n",
       "      <td>0.000000</td>\n",
       "      <td>0.00000</td>\n",
       "      <td>1.00000</td>\n",
       "      <td>0.000000</td>\n",
       "      <td>0.500000</td>\n",
       "    </tr>\n",
       "    <tr>\n",
       "      <th>75%</th>\n",
       "      <td>0.000000</td>\n",
       "      <td>0.000000</td>\n",
       "      <td>1.000000</td>\n",
       "      <td>4.000000</td>\n",
       "      <td>0.000000</td>\n",
       "      <td>0.000000</td>\n",
       "      <td>0.000000</td>\n",
       "      <td>0.000000</td>\n",
       "      <td>0.000000</td>\n",
       "      <td>1.000000</td>\n",
       "      <td>1.000000</td>\n",
       "      <td>1.0000</td>\n",
       "      <td>0.000000</td>\n",
       "      <td>0.00000</td>\n",
       "      <td>1.00000</td>\n",
       "      <td>0.000000</td>\n",
       "      <td>1.000000</td>\n",
       "    </tr>\n",
       "    <tr>\n",
       "      <th>max</th>\n",
       "      <td>1.000000</td>\n",
       "      <td>1.000000</td>\n",
       "      <td>1.000000</td>\n",
       "      <td>20.000000</td>\n",
       "      <td>1.000000</td>\n",
       "      <td>1.000000</td>\n",
       "      <td>1.000000</td>\n",
       "      <td>1.000000</td>\n",
       "      <td>1.000000</td>\n",
       "      <td>1.000000</td>\n",
       "      <td>1.000000</td>\n",
       "      <td>1.0000</td>\n",
       "      <td>1.000000</td>\n",
       "      <td>1.00000</td>\n",
       "      <td>1.00000</td>\n",
       "      <td>1.000000</td>\n",
       "      <td>1.000000</td>\n",
       "    </tr>\n",
       "  </tbody>\n",
       "</table>\n",
       "</div>"
      ],
      "text/plain": [
       "            Have_IP       Have_At    URL_Length     URL_Depth   Redirection  \\\n",
       "count  10000.000000  10000.000000  10000.000000  10000.000000  10000.000000   \n",
       "mean       0.005500      0.022600      0.773400      3.072000      0.013500   \n",
       "std        0.073961      0.148632      0.418653      2.128631      0.115408   \n",
       "min        0.000000      0.000000      0.000000      0.000000      0.000000   \n",
       "25%        0.000000      0.000000      1.000000      2.000000      0.000000   \n",
       "50%        0.000000      0.000000      1.000000      3.000000      0.000000   \n",
       "75%        0.000000      0.000000      1.000000      4.000000      0.000000   \n",
       "max        1.000000      1.000000      1.000000     20.000000      1.000000   \n",
       "\n",
       "       https_Domain       TinyURL  Prefix/Suffix    DNS_Record   Web_Traffic  \\\n",
       "count  10000.000000  10000.000000   10000.000000  10000.000000  10000.000000   \n",
       "mean       0.000200      0.090300       0.093200      0.100800      0.845700   \n",
       "std        0.014141      0.286625       0.290727      0.301079      0.361254   \n",
       "min        0.000000      0.000000       0.000000      0.000000      0.000000   \n",
       "25%        0.000000      0.000000       0.000000      0.000000      1.000000   \n",
       "50%        0.000000      0.000000       0.000000      0.000000      1.000000   \n",
       "75%        0.000000      0.000000       0.000000      0.000000      1.000000   \n",
       "max        1.000000      1.000000       1.000000      1.000000      1.000000   \n",
       "\n",
       "         Domain_Age  Domain_End        iFrame   Mouse_Over  Right_Click  \\\n",
       "count  10000.000000  10000.0000  10000.000000  10000.00000  10000.00000   \n",
       "mean       0.413700      0.8099      0.090900      0.06660      0.99930   \n",
       "std        0.492521      0.3924      0.287481      0.24934      0.02645   \n",
       "min        0.000000      0.0000      0.000000      0.00000      0.00000   \n",
       "25%        0.000000      1.0000      0.000000      0.00000      1.00000   \n",
       "50%        0.000000      1.0000      0.000000      0.00000      1.00000   \n",
       "75%        1.000000      1.0000      0.000000      0.00000      1.00000   \n",
       "max        1.000000      1.0000      1.000000      1.00000      1.00000   \n",
       "\n",
       "       Web_Forwards         Label  \n",
       "count  10000.000000  10000.000000  \n",
       "mean       0.105300      0.500000  \n",
       "std        0.306955      0.500025  \n",
       "min        0.000000      0.000000  \n",
       "25%        0.000000      0.000000  \n",
       "50%        0.000000      0.500000  \n",
       "75%        0.000000      1.000000  \n",
       "max        1.000000      1.000000  "
      ]
     },
     "execution_count": 209,
     "metadata": {},
     "output_type": "execute_result"
    }
   ],
   "source": [
    "df.describe()"
   ]
  },
  {
   "cell_type": "code",
   "execution_count": 210,
   "metadata": {},
   "outputs": [],
   "source": [
    "df_new = df.drop(['Domain'], axis = 1).copy()"
   ]
  },
  {
   "cell_type": "code",
   "execution_count": 211,
   "metadata": {},
   "outputs": [
    {
     "data": {
      "text/plain": [
       "Have_IP          0\n",
       "Have_At          0\n",
       "URL_Length       0\n",
       "URL_Depth        0\n",
       "Redirection      0\n",
       "https_Domain     0\n",
       "TinyURL          0\n",
       "Prefix/Suffix    0\n",
       "DNS_Record       0\n",
       "Web_Traffic      0\n",
       "Domain_Age       0\n",
       "Domain_End       0\n",
       "iFrame           0\n",
       "Mouse_Over       0\n",
       "Right_Click      0\n",
       "Web_Forwards     0\n",
       "Label            0\n",
       "dtype: int64"
      ]
     },
     "execution_count": 211,
     "metadata": {},
     "output_type": "execute_result"
    }
   ],
   "source": [
    "df_new.isnull().sum()"
   ]
  },
  {
   "cell_type": "code",
   "execution_count": 212,
   "metadata": {},
   "outputs": [
    {
     "data": {
      "text/html": [
       "<div>\n",
       "<style scoped>\n",
       "    .dataframe tbody tr th:only-of-type {\n",
       "        vertical-align: middle;\n",
       "    }\n",
       "\n",
       "    .dataframe tbody tr th {\n",
       "        vertical-align: top;\n",
       "    }\n",
       "\n",
       "    .dataframe thead th {\n",
       "        text-align: right;\n",
       "    }\n",
       "</style>\n",
       "<table border=\"1\" class=\"dataframe\">\n",
       "  <thead>\n",
       "    <tr style=\"text-align: right;\">\n",
       "      <th></th>\n",
       "      <th>Have_IP</th>\n",
       "      <th>Have_At</th>\n",
       "      <th>URL_Length</th>\n",
       "      <th>URL_Depth</th>\n",
       "      <th>Redirection</th>\n",
       "      <th>https_Domain</th>\n",
       "      <th>TinyURL</th>\n",
       "      <th>Prefix/Suffix</th>\n",
       "      <th>DNS_Record</th>\n",
       "      <th>Web_Traffic</th>\n",
       "      <th>Domain_Age</th>\n",
       "      <th>Domain_End</th>\n",
       "      <th>iFrame</th>\n",
       "      <th>Mouse_Over</th>\n",
       "      <th>Right_Click</th>\n",
       "      <th>Web_Forwards</th>\n",
       "      <th>Label</th>\n",
       "    </tr>\n",
       "  </thead>\n",
       "  <tbody>\n",
       "    <tr>\n",
       "      <th>0</th>\n",
       "      <td>0</td>\n",
       "      <td>0</td>\n",
       "      <td>1</td>\n",
       "      <td>12</td>\n",
       "      <td>0</td>\n",
       "      <td>0</td>\n",
       "      <td>1</td>\n",
       "      <td>0</td>\n",
       "      <td>1</td>\n",
       "      <td>1</td>\n",
       "      <td>1</td>\n",
       "      <td>1</td>\n",
       "      <td>0</td>\n",
       "      <td>0</td>\n",
       "      <td>1</td>\n",
       "      <td>0</td>\n",
       "      <td>1</td>\n",
       "    </tr>\n",
       "    <tr>\n",
       "      <th>1</th>\n",
       "      <td>0</td>\n",
       "      <td>0</td>\n",
       "      <td>1</td>\n",
       "      <td>10</td>\n",
       "      <td>0</td>\n",
       "      <td>0</td>\n",
       "      <td>0</td>\n",
       "      <td>0</td>\n",
       "      <td>0</td>\n",
       "      <td>1</td>\n",
       "      <td>0</td>\n",
       "      <td>1</td>\n",
       "      <td>0</td>\n",
       "      <td>0</td>\n",
       "      <td>1</td>\n",
       "      <td>0</td>\n",
       "      <td>0</td>\n",
       "    </tr>\n",
       "    <tr>\n",
       "      <th>2</th>\n",
       "      <td>0</td>\n",
       "      <td>1</td>\n",
       "      <td>1</td>\n",
       "      <td>2</td>\n",
       "      <td>0</td>\n",
       "      <td>0</td>\n",
       "      <td>0</td>\n",
       "      <td>0</td>\n",
       "      <td>0</td>\n",
       "      <td>1</td>\n",
       "      <td>0</td>\n",
       "      <td>0</td>\n",
       "      <td>0</td>\n",
       "      <td>0</td>\n",
       "      <td>1</td>\n",
       "      <td>0</td>\n",
       "      <td>1</td>\n",
       "    </tr>\n",
       "    <tr>\n",
       "      <th>3</th>\n",
       "      <td>0</td>\n",
       "      <td>0</td>\n",
       "      <td>1</td>\n",
       "      <td>4</td>\n",
       "      <td>0</td>\n",
       "      <td>0</td>\n",
       "      <td>0</td>\n",
       "      <td>1</td>\n",
       "      <td>0</td>\n",
       "      <td>1</td>\n",
       "      <td>0</td>\n",
       "      <td>1</td>\n",
       "      <td>0</td>\n",
       "      <td>0</td>\n",
       "      <td>1</td>\n",
       "      <td>0</td>\n",
       "      <td>0</td>\n",
       "    </tr>\n",
       "    <tr>\n",
       "      <th>4</th>\n",
       "      <td>0</td>\n",
       "      <td>0</td>\n",
       "      <td>0</td>\n",
       "      <td>1</td>\n",
       "      <td>0</td>\n",
       "      <td>0</td>\n",
       "      <td>0</td>\n",
       "      <td>0</td>\n",
       "      <td>0</td>\n",
       "      <td>1</td>\n",
       "      <td>0</td>\n",
       "      <td>1</td>\n",
       "      <td>0</td>\n",
       "      <td>0</td>\n",
       "      <td>1</td>\n",
       "      <td>0</td>\n",
       "      <td>1</td>\n",
       "    </tr>\n",
       "  </tbody>\n",
       "</table>\n",
       "</div>"
      ],
      "text/plain": [
       "   Have_IP  Have_At  URL_Length  URL_Depth  Redirection  https_Domain  \\\n",
       "0        0        0           1         12            0             0   \n",
       "1        0        0           1         10            0             0   \n",
       "2        0        1           1          2            0             0   \n",
       "3        0        0           1          4            0             0   \n",
       "4        0        0           0          1            0             0   \n",
       "\n",
       "   TinyURL  Prefix/Suffix  DNS_Record  Web_Traffic  Domain_Age  Domain_End  \\\n",
       "0        1              0           1            1           1           1   \n",
       "1        0              0           0            1           0           1   \n",
       "2        0              0           0            1           0           0   \n",
       "3        0              1           0            1           0           1   \n",
       "4        0              0           0            1           0           1   \n",
       "\n",
       "   iFrame  Mouse_Over  Right_Click  Web_Forwards  Label  \n",
       "0       0           0            1             0      1  \n",
       "1       0           0            1             0      0  \n",
       "2       0           0            1             0      1  \n",
       "3       0           0            1             0      0  \n",
       "4       0           0            1             0      1  "
      ]
     },
     "execution_count": 212,
     "metadata": {},
     "output_type": "execute_result"
    }
   ],
   "source": [
    "df_new = df_new.sample(frac=1).reset_index(drop=True)\n",
    "df_new.head()"
   ]
  },
  {
   "cell_type": "code",
   "execution_count": 213,
   "metadata": {},
   "outputs": [
    {
     "data": {
      "text/plain": [
       "((10000, 16), (10000,))"
      ]
     },
     "execution_count": 213,
     "metadata": {},
     "output_type": "execute_result"
    }
   ],
   "source": [
    "y = df_new['Label']\n",
    "X = df_new.drop('Label',axis=1)\n",
    "X.shape, y.shape"
   ]
  },
  {
   "cell_type": "code",
   "execution_count": 214,
   "metadata": {},
   "outputs": [
    {
     "data": {
      "text/plain": [
       "((10000, 16), (10000,))"
      ]
     },
     "execution_count": 214,
     "metadata": {},
     "output_type": "execute_result"
    }
   ],
   "source": [
    "y = df_new['Label']\n",
    "X = df_new.drop('Label',axis=1)\n",
    "X.shape, y.shape"
   ]
  },
  {
   "cell_type": "code",
   "execution_count": null,
   "metadata": {},
   "outputs": [],
   "source": [
    "\n"
   ]
  },
  {
   "cell_type": "code",
   "execution_count": 215,
   "metadata": {},
   "outputs": [
    {
     "data": {
      "text/plain": [
       "((8000, 16), (2000, 16))"
      ]
     },
     "execution_count": 215,
     "metadata": {},
     "output_type": "execute_result"
    }
   ],
   "source": [
    "from sklearn.model_selection import train_test_split\n",
    "\n",
    "X_train, X_test, y_train, y_test = train_test_split(X, y, \n",
    "                                                    test_size = 0.2, random_state = 12)\n",
    "X_train.shape, X_test.shape"
   ]
  },
  {
   "cell_type": "code",
   "execution_count": 19,
   "metadata": {},
   "outputs": [
    {
     "name": "stdout",
     "output_type": "stream",
     "text": [
      "[t-SNE] Computing 91 nearest neighbors...\n",
      "[t-SNE] Indexed 10000 samples in 0.050s...\n",
      "[t-SNE] Computed neighbors for 10000 samples in 0.875s...\n",
      "[t-SNE] Computed conditional probabilities for sample 1000 / 10000\n",
      "[t-SNE] Computed conditional probabilities for sample 2000 / 10000\n",
      "[t-SNE] Computed conditional probabilities for sample 3000 / 10000\n",
      "[t-SNE] Computed conditional probabilities for sample 4000 / 10000\n",
      "[t-SNE] Computed conditional probabilities for sample 5000 / 10000\n",
      "[t-SNE] Computed conditional probabilities for sample 6000 / 10000\n",
      "[t-SNE] Computed conditional probabilities for sample 7000 / 10000\n",
      "[t-SNE] Computed conditional probabilities for sample 8000 / 10000\n",
      "[t-SNE] Computed conditional probabilities for sample 9000 / 10000\n",
      "[t-SNE] Computed conditional probabilities for sample 10000 / 10000\n",
      "[t-SNE] Mean sigma: 0.000000\n",
      "[t-SNE] KL divergence after 250 iterations with early exaggeration: 55.844898\n",
      "[t-SNE] KL divergence after 1000 iterations: 0.369460\n"
     ]
    },
    {
     "data": {
      "text/plain": [
       "[Text(0.5, 1.0, ' T-SNE projection')]"
      ]
     },
     "execution_count": 19,
     "metadata": {},
     "output_type": "execute_result"
    },
    {
     "data": {
      "image/png": "[encoded data removed]",
      "text/plain": [
       "<Figure size 432x288 with 1 Axes>"
      ]
     },
     "metadata": {
      "needs_background": "light"
     },
     "output_type": "display_data"
    }
   ],
   "source": [
    "tsne = TSNE(n_components=2, verbose=1, random_state=123)\n",
    "z = tsne.fit_transform(df_new)\n",
    "df = pd.DataFrame()\n",
    "df[\"y\"] = y\n",
    "df[\"leg\"] = z[:,0]\n",
    "df[\"phishing\"] = z[:,1]\n",
    "\n",
    "sns.scatterplot(x=\"leg\", y=\"phishing\", hue=df.y.tolist(),\n",
    "                palette=sns.color_palette(\"hls\", 2),\n",
    "                data=df).set(title=\" T-SNE projection\")"
   ]
  },
  {
   "cell_type": "code",
   "execution_count": 216,
   "metadata": {},
   "outputs": [],
   "source": [
    "from sklearn.metrics import accuracy_score"
   ]
  },
  {
   "cell_type": "code",
   "execution_count": 217,
   "metadata": {},
   "outputs": [],
   "source": [
    "Machine_learning_Model = []\n",
    "accuracy_train = []\n",
    "accuracy_test = []"
   ]
  },
  {
   "cell_type": "code",
   "execution_count": 218,
   "metadata": {},
   "outputs": [],
   "source": [
    "def ALL_Results(model, a,b):\n",
    "    Machine_learning_Model.append(model)\n",
    "    accuracy_train.append(round(a, 3))\n",
    "    accuracy_test.append(round(b, 3))"
   ]
  },
  {
   "cell_type": "code",
   "execution_count": 219,
   "metadata": {
    "scrolled": true
   },
   "outputs": [
    {
     "data": {
      "text/plain": [
       "DecisionTreeClassifier(max_depth=5)"
      ]
     },
     "execution_count": 219,
     "metadata": {},
     "output_type": "execute_result"
    }
   ],
   "source": [
    "\n",
    "from sklearn.tree import DecisionTreeClassifier\n",
    "\n",
    "decision_tree = DecisionTreeClassifier(max_depth = 5)\n",
    "decision_tree.fit(X_train, y_train)"
   ]
  },
  {
   "cell_type": "code",
   "execution_count": 220,
   "metadata": {},
   "outputs": [],
   "source": [
    "y_test_decision_tree = decision_tree.predict(X_test)\n",
    "y_train_decision_tree = decision_tree.predict(X_train)"
   ]
  },
  {
   "cell_type": "code",
   "execution_count": 221,
   "metadata": {},
   "outputs": [
    {
     "name": "stdout",
     "output_type": "stream",
     "text": [
      "Decision Tree Accuracy using training Data:0.82\n",
      "Decision Tree Accuracy using test Data: 0.80\n"
     ]
    }
   ],
   "source": [
    "accuracy_train_tree = accuracy_score(y_train,y_train_decision_tree )\n",
    "accuracy_test_tree = accuracy_score(y_test,y_test_decision_tree)\n",
    "\n",
    "print(\"Decision Tree Accuracy using training Data:{:.2f}\".format(accuracy_train_tree))\n",
    "print(\"Decision Tree Accuracy using test Data: {:.2f}\".format(accuracy_test_tree))"
   ]
  },
  {
   "cell_type": "code",
   "execution_count": 222,
   "metadata": {},
   "outputs": [
    {
     "name": "stdout",
     "output_type": "stream",
     "text": [
      "Classification Report:  \n",
      " \n",
      "               precision    recall  f1-score   support\n",
      "\n",
      "           0       0.71      0.99      0.83       979\n",
      "           1       0.98      0.62      0.76      1021\n",
      "\n",
      "    accuracy                           0.80      2000\n",
      "   macro avg       0.85      0.80      0.79      2000\n",
      "weighted avg       0.85      0.80      0.79      2000\n",
      "\n"
     ]
    }
   ],
   "source": [
    "from sklearn.metrics import classification_report\n",
    "predicted = decision_tree.predict(X_test)\n",
    "report = classification_report(y_test, predicted)\n",
    "print(\"Classification Report: \", \"\\n\", \"\\n\", report)"
   ]
  },
  {
   "cell_type": "code",
   "execution_count": 223,
   "metadata": {},
   "outputs": [
    {
     "data": {
      "image/png": "[encoded data removed]",
      "text/plain": [
       "<Figure size 648x504 with 1 Axes>"
      ]
     },
     "metadata": {
      "needs_background": "light"
     },
     "output_type": "display_data"
    }
   ],
   "source": [
    "plt.figure(figsize=(9,7))\n",
    "new_features = X_train.shape[1]\n",
    "plt.barh(range(new_features ), decision_tree.feature_importances_, align='center')\n",
    "plt.yticks(np.arange(new_features ), X_train.columns)\n",
    "plt.xlabel(\"important feature\")\n",
    "plt.ylabel(\"Feature\")\n",
    "plt.show()"
   ]
  },
  {
   "cell_type": "code",
   "execution_count": 224,
   "metadata": {},
   "outputs": [],
   "source": [
    "\n",
    "ALL_Results('Decision Tree', accuracy_train_tree, accuracy_test_tree)"
   ]
  },
  {
   "cell_type": "code",
   "execution_count": 225,
   "metadata": {},
   "outputs": [
    {
     "data": {
      "text/plain": [
       "RandomForestClassifier(max_depth=5)"
      ]
     },
     "execution_count": 225,
     "metadata": {},
     "output_type": "execute_result"
    }
   ],
   "source": [
    "# Random Forest \n",
    "from sklearn.ensemble import RandomForestClassifier\n",
    "\n",
    "\n",
    "Rand_forest = RandomForestClassifier(max_depth=5)\n",
    "\n",
    "\n",
    "Rand_forest.fit(X_train, y_train)\n"
   ]
  },
  {
   "cell_type": "code",
   "execution_count": 226,
   "metadata": {},
   "outputs": [],
   "source": [
    "#prediction of  target value \n",
    "y_test_forest = Rand_forest.predict(X_test)\n",
    "y_train_forest = Rand_forest.predict(X_train)"
   ]
  },
  {
   "cell_type": "code",
   "execution_count": 227,
   "metadata": {},
   "outputs": [
    {
     "name": "stdout",
     "output_type": "stream",
     "text": [
      "Classification Report:  \n",
      " \n",
      "               precision    recall  f1-score   support\n",
      "\n",
      "           0       0.72      0.99      0.83       979\n",
      "           1       0.99      0.63      0.77      1021\n",
      "\n",
      "    accuracy                           0.80      2000\n",
      "   macro avg       0.85      0.81      0.80      2000\n",
      "weighted avg       0.85      0.80      0.80      2000\n",
      "\n"
     ]
    }
   ],
   "source": [
    "predicted = Rand_forest.predict(X_test)\n",
    "report = classification_report(y_test, predicted)\n",
    "print(\"Classification Report: \", \"\\n\", \"\\n\", report)"
   ]
  },
  {
   "cell_type": "code",
   "execution_count": 228,
   "metadata": {},
   "outputs": [
    {
     "name": "stdout",
     "output_type": "stream",
     "text": [
      "Random forest  Accuracy using training Data: 0.83\n",
      "Random forest Accuracy using test Data: 0.80\n"
     ]
    }
   ],
   "source": [
    "#calculating accuracy of model's performance\n",
    "acc_train_Rand_forest = accuracy_score(y_train,y_train_forest)\n",
    "acc_test_Rand_forest = accuracy_score(y_test,y_test_forest)\n",
    "\n",
    "print(\"Random forest  Accuracy using training Data: {:.2f}\".format(acc_train_Rand_forest))\n",
    "print(\"Random forest Accuracy using test Data: {:.2f}\".format(acc_test_Rand_forest))"
   ]
  },
  {
   "cell_type": "code",
   "execution_count": 229,
   "metadata": {},
   "outputs": [
    {
     "data": {
      "image/png": "[encoded data removed]",
      "text/plain": [
       "<Figure size 648x504 with 1 Axes>"
      ]
     },
     "metadata": {
      "needs_background": "light"
     },
     "output_type": "display_data"
    }
   ],
   "source": [
    "#checking important feature of the model\n",
    "plt.figure(figsize=(9,7))\n",
    "n_features = X_train.shape[1]\n",
    "plt.barh(range(n_features), Rand_forest.feature_importances_, align='center')\n",
    "plt.yticks(np.arange(n_features), X_train.columns)\n",
    "plt.xlabel(\"Important Feature\")\n",
    "plt.ylabel(\"Feature\")\n",
    "plt.show()"
   ]
  },
  {
   "cell_type": "code",
   "execution_count": 230,
   "metadata": {},
   "outputs": [],
   "source": [
    "\n",
    "Results('Random Forest',acc_train_Rand_forest, acc_test_Rand_forest)"
   ]
  },
  {
   "cell_type": "code",
   "execution_count": 231,
   "metadata": {},
   "outputs": [
    {
     "data": {
      "text/plain": [
       "MLPClassifier(alpha=0.001, hidden_layer_sizes=[100, 100, 100])"
      ]
     },
     "execution_count": 231,
     "metadata": {},
     "output_type": "execute_result"
    }
   ],
   "source": [
    "# Multilayer Perceptrons \n",
    "from sklearn.neural_network import MLPClassifier\n",
    "\n",
    "\n",
    "multi_layer_percep = MLPClassifier(alpha=0.001, hidden_layer_sizes=([100,100,100]))\n",
    "\n",
    "multi_layer_percep.fit(X_train, y_train)"
   ]
  },
  {
   "cell_type": "code",
   "execution_count": 232,
   "metadata": {},
   "outputs": [],
   "source": [
    "#predicting the target value from the model for the samples\n",
    "y_test_mlp = multi_layer_percep.predict(X_test)\n",
    "y_train_mlp = multi_layer_percep.predict(X_train)"
   ]
  },
  {
   "cell_type": "code",
   "execution_count": 233,
   "metadata": {},
   "outputs": [
    {
     "name": "stdout",
     "output_type": "stream",
     "text": [
      "Classification Report:  \n",
      " \n",
      "               precision    recall  f1-score   support\n",
      "\n",
      "           0       0.78      0.95      0.86       979\n",
      "           1       0.94      0.74      0.83      1021\n",
      "\n",
      "    accuracy                           0.84      2000\n",
      "   macro avg       0.86      0.85      0.84      2000\n",
      "weighted avg       0.86      0.84      0.84      2000\n",
      "\n"
     ]
    }
   ],
   "source": [
    "predicted = multi_layer_percep.predict(X_test)\n",
    "report = classification_report(y_test, predicted)\n",
    "print(\"Classification Report: \", \"\\n\", \"\\n\", report)"
   ]
  },
  {
   "cell_type": "code",
   "execution_count": 234,
   "metadata": {},
   "outputs": [
    {
     "name": "stdout",
     "output_type": "stream",
     "text": [
      "Multilayer Perceptrons  Accuracy using training Data: 0.87\n",
      "Multilayer Perceptrons: Accuracy using  test Data: 0.84\n"
     ]
    }
   ],
   "source": [
    "#calculating accuracy of  model's  performance\n",
    "\n",
    "acc_train_multi_layer_percep = accuracy_score(y_train,y_train_mlp)\n",
    "acc_test_multi_layer_percep = accuracy_score(y_test,y_test_mlp)\n",
    "\n",
    "print(\"Multilayer Perceptrons  Accuracy using training Data: {:.2f}\".format(acc_train_multi_layer_percep))\n",
    "print(\"Multilayer Perceptrons: Accuracy using  test Data: {:.2f}\".format(acc_test_multi_layer_percep))"
   ]
  },
  {
   "cell_type": "code",
   "execution_count": 235,
   "metadata": {},
   "outputs": [],
   "source": [
    "\n",
    "ALL_Results('Multilayer Perceptrons', acc_train_multi_layer_percep, acc_test_multi_layer_percep)"
   ]
  },
  {
   "cell_type": "code",
   "execution_count": 132,
   "metadata": {},
   "outputs": [
    {
     "name": "stdout",
     "output_type": "stream",
     "text": [
      "[06:23:17] WARNING: C:/Users/Administrator/workspace/xgboost-win64_release_1.5.0/src/learner.cc:1115: Starting in XGBoost 1.3.0, the default evaluation metric used with the objective 'binary:logistic' was changed from 'error' to 'logloss'. Explicitly set eval_metric if you'd like to restore the old behavior.\n"
     ]
    },
    {
     "name": "stderr",
     "output_type": "stream",
     "text": [
      "C:\\ProgramData\\Anaconda3\\lib\\site-packages\\xgboost\\sklearn.py:1224: UserWarning: The use of label encoder in XGBClassifier is deprecated and will be removed in a future release. To remove this warning, do the following: 1) Pass option use_label_encoder=False when constructing XGBClassifier object; and 2) Encode your labels (y) as integers starting with 0, i.e. 0, 1, 2, ..., [num_class - 1].\n",
      "  warnings.warn(label_encoder_deprecation_msg, UserWarning)\n"
     ]
    },
    {
     "data": {
      "text/plain": [
       "XGBClassifier(base_score=0.5, booster='gbtree', colsample_bylevel=1,\n",
       "              colsample_bynode=1, colsample_bytree=1, enable_categorical=False,\n",
       "              gamma=0, gpu_id=-1, importance_type=None,\n",
       "              interaction_constraints='', learning_rate=0.4, max_delta_step=0,\n",
       "              max_depth=7, min_child_weight=1, missing=nan,\n",
       "              monotone_constraints='()', n_estimators=100, n_jobs=16,\n",
       "              num_parallel_tree=1, predictor='auto', random_state=0,\n",
       "              reg_alpha=0, reg_lambda=1, scale_pos_weight=1, subsample=1,\n",
       "              tree_method='exact', validate_parameters=1, verbosity=None)"
      ]
     },
     "execution_count": 132,
     "metadata": {},
     "output_type": "execute_result"
    }
   ],
   "source": [
    "#XGBoost Classifer model\n",
    "\n",
    "from xgboost import XGBClassifier\n",
    "\n",
    "xgbst = XGBClassifier(learning_rate=0.4,max_depth=7)\n",
    "\n",
    "xgbst.fit(X_train, y_train)"
   ]
  },
  {
   "cell_type": "code",
   "execution_count": 133,
   "metadata": {},
   "outputs": [],
   "source": [
    "#!pip install xgboost"
   ]
  },
  {
   "cell_type": "code",
   "execution_count": 236,
   "metadata": {},
   "outputs": [
    {
     "name": "stdout",
     "output_type": "stream",
     "text": [
      "[06:52:52] WARNING: C:/Users/Administrator/workspace/xgboost-win64_release_1.5.0/src/learner.cc:1115: Starting in XGBoost 1.3.0, the default evaluation metric used with the objective 'binary:logistic' was changed from 'error' to 'logloss'. Explicitly set eval_metric if you'd like to restore the old behavior.\n"
     ]
    },
    {
     "name": "stderr",
     "output_type": "stream",
     "text": [
      "C:\\ProgramData\\Anaconda3\\lib\\site-packages\\xgboost\\sklearn.py:1224: UserWarning: The use of label encoder in XGBClassifier is deprecated and will be removed in a future release. To remove this warning, do the following: 1) Pass option use_label_encoder=False when constructing XGBClassifier object; and 2) Encode your labels (y) as integers starting with 0, i.e. 0, 1, 2, ..., [num_class - 1].\n",
      "  warnings.warn(label_encoder_deprecation_msg, UserWarning)\n"
     ]
    },
    {
     "data": {
      "text/plain": [
       "XGBClassifier(base_score=0.5, booster='gbtree', colsample_bylevel=1,\n",
       "              colsample_bynode=1, colsample_bytree=1, enable_categorical=False,\n",
       "              gamma=0, gpu_id=-1, importance_type=None,\n",
       "              interaction_constraints='', learning_rate=0.4, max_delta_step=0,\n",
       "              max_depth=7, min_child_weight=1, missing=nan,\n",
       "              monotone_constraints='()', n_estimators=100, n_jobs=16,\n",
       "              num_parallel_tree=1, predictor='auto', random_state=0,\n",
       "              reg_alpha=0, reg_lambda=1, scale_pos_weight=1, subsample=1,\n",
       "              tree_method='exact', validate_parameters=1, verbosity=None)"
      ]
     },
     "execution_count": 236,
     "metadata": {},
     "output_type": "execute_result"
    }
   ],
   "source": [
    "from xgboost import XGBClassifier\n",
    "\n",
    "xgbst = XGBClassifier(learning_rate=0.4,max_depth=7)\n",
    "\n",
    "xgbst.fit(X_train, y_train)"
   ]
  },
  {
   "cell_type": "code",
   "execution_count": 237,
   "metadata": {},
   "outputs": [],
   "source": [
    "#predicting the target value from the model for the samples\n",
    "y_test_xgb = xgbst.predict(X_test)\n",
    "y_train_xgb = xgbst.predict(X_train)"
   ]
  },
  {
   "cell_type": "code",
   "execution_count": 238,
   "metadata": {
    "scrolled": true
   },
   "outputs": [
    {
     "name": "stdout",
     "output_type": "stream",
     "text": [
      "Classification Report:  \n",
      " \n",
      "               precision    recall  f1-score   support\n",
      "\n",
      "           0       0.79      0.93      0.85       979\n",
      "           1       0.92      0.76      0.83      1021\n",
      "\n",
      "    accuracy                           0.84      2000\n",
      "   macro avg       0.85      0.84      0.84      2000\n",
      "weighted avg       0.85      0.84      0.84      2000\n",
      "\n"
     ]
    }
   ],
   "source": [
    "predicted = xgbst.predict(X_test)\n",
    "report = classification_report(y_test, predicted)\n",
    "print(\"Classification Report: \", \"\\n\", \"\\n\", report)"
   ]
  },
  {
   "cell_type": "code",
   "execution_count": 137,
   "metadata": {},
   "outputs": [
    {
     "name": "stdout",
     "output_type": "stream",
     "text": [
      "XGBoost Accuracy using training Data: 0.87\n",
      "XGBoost Accuracy using test Data: 0.85\n"
     ]
    }
   ],
   "source": [
    "#calculating  the accuracy of model's  performance\n",
    "acc_train_xgbst = accuracy_score(y_train,y_train_xgb)\n",
    "acc_test_xgbst = accuracy_score(y_test,y_test_xgb)\n",
    "\n",
    "print(\"XGBoost Accuracy using training Data: {:.2f}\".format(acc_train_xgbst))\n",
    "print(\"XGBoost Accuracy using test Data: {:.2f}\".format(acc_test_xgbst))"
   ]
  },
  {
   "cell_type": "code",
   "execution_count": 239,
   "metadata": {},
   "outputs": [],
   "source": [
    "\n",
    "ALL_Results('XGBoost', acc_train_xgbst, acc_test_xgbst)"
   ]
  },
  {
   "cell_type": "code",
   "execution_count": 240,
   "metadata": {},
   "outputs": [],
   "source": [
    "#importing the  packages\n",
    "import keras\n",
    "from keras.layers import Input, Dense\n",
    "from keras import regularizers\n",
    "import tensorflow as tf\n",
    "from keras.models import Model\n",
    "from sklearn import metrics"
   ]
  },
  {
   "cell_type": "code",
   "execution_count": 241,
   "metadata": {},
   "outputs": [
    {
     "name": "stdout",
     "output_type": "stream",
     "text": [
      "Model: \"model_2\"\n",
      "_________________________________________________________________\n",
      " Layer (type)                Output Shape              Param #   \n",
      "=================================================================\n",
      " input_3 (InputLayer)        [(None, 16)]              0         \n",
      "                                                                 \n",
      " dense_22 (Dense)            (None, 16)                272       \n",
      "                                                                 \n",
      " dense_23 (Dense)            (None, 16)                272       \n",
      "                                                                 \n",
      " dense_24 (Dense)            (None, 14)                238       \n",
      "                                                                 \n",
      " dense_27 (Dense)            (None, 16)                240       \n",
      "                                                                 \n",
      " dense_28 (Dense)            (None, 16)                272       \n",
      "                                                                 \n",
      "=================================================================\n",
      "Total params: 1,294\n",
      "Trainable params: 1,294\n",
      "Non-trainable params: 0\n",
      "_________________________________________________________________\n"
     ]
    }
   ],
   "source": [
    "#building ANN model\n",
    "\n",
    "input_dim = X_train.shape[1]\n",
    "encoding_dim = input_dim\n",
    "\n",
    "input_layer = Input(shape=(input_dim, ))\n",
    "encoder = Dense(encoding_dim, activation=\"relu\",\n",
    "                activity_regularizer=regularizers.l1(10e-4))(input_layer)\n",
    "encoder = Dense(int(encoding_dim), activation=\"relu\")(encoder)\n",
    "\n",
    "encoder = Dense(int(encoding_dim-2), activation=\"relu\")(encoder)\n",
    "code = Dense(int(encoding_dim-4), activation='relu')(encoder)\n",
    "decoder = Dense(int(encoding_dim-2), activation='relu')(code)\n",
    "\n",
    "decoder = Dense(int(encoding_dim), activation='relu')(encoder)\n",
    "decoder = Dense(input_dim, activation='relu')(decoder)\n",
    "autoencoder = Model(inputs=input_layer, outputs=decoder)\n",
    "autoencoder.summary()\n"
   ]
  },
  {
   "cell_type": "code",
   "execution_count": 242,
   "metadata": {},
   "outputs": [
    {
     "name": "stdout",
     "output_type": "stream",
     "text": [
      "Epoch 1/10\n",
      "100/100 [==============================] - 1s 5ms/step - loss: 4.6619 - accuracy: 0.0327 - val_loss: 4.4185 - val_accuracy: 0.0506\n",
      "Epoch 2/10\n",
      "100/100 [==============================] - 0s 4ms/step - loss: 4.3889 - accuracy: 0.0402 - val_loss: 4.3360 - val_accuracy: 0.0269\n",
      "Epoch 3/10\n",
      "100/100 [==============================] - 0s 4ms/step - loss: 0.9182 - accuracy: 0.2562 - val_loss: -0.6079 - val_accuracy: 0.8288\n",
      "Epoch 4/10\n",
      "100/100 [==============================] - 0s 4ms/step - loss: -0.6492 - accuracy: 0.8366 - val_loss: -0.6365 - val_accuracy: 0.7556\n",
      "Epoch 5/10\n",
      "100/100 [==============================] - 0s 4ms/step - loss: -0.6752 - accuracy: 0.6116 - val_loss: -0.6644 - val_accuracy: 0.3625\n",
      "Epoch 6/10\n",
      "100/100 [==============================] - 0s 4ms/step - loss: -0.6764 - accuracy: 0.7739 - val_loss: -0.6694 - val_accuracy: 0.7538\n",
      "Epoch 7/10\n",
      "100/100 [==============================] - 0s 4ms/step - loss: -0.6988 - accuracy: 0.4938 - val_loss: -0.6843 - val_accuracy: 0.1706\n",
      "Epoch 8/10\n",
      "100/100 [==============================] - 0s 4ms/step - loss: -0.7177 - accuracy: 0.1272 - val_loss: -0.7012 - val_accuracy: 0.0350\n",
      "Epoch 9/10\n",
      "100/100 [==============================] - 0s 4ms/step - loss: -0.7315 - accuracy: 0.0217 - val_loss: -0.7177 - val_accuracy: 0.0019\n",
      "Epoch 10/10\n",
      "100/100 [==============================] - 0s 4ms/step - loss: -0.7418 - accuracy: 0.0020 - val_loss: -0.7203 - val_accuracy: 6.2500e-04\n"
     ]
    }
   ],
   "source": [
    "\n",
    "autoencoder.compile(optimizer='adam',\n",
    "                    loss='binary_crossentropy',\n",
    "                    metrics=['accuracy'])\n",
    "\n",
    "#Training the model\n",
    "history = autoencoder.fit(X_train, X_train, epochs=10, batch_size=64, shuffle=True, validation_split=0.2) "
   ]
  },
  {
   "cell_type": "code",
   "execution_count": 142,
   "metadata": {},
   "outputs": [
    {
     "name": "stdout",
     "output_type": "stream",
     "text": [
      "250/250 [==============================] - 1s 2ms/step - loss: -1.8639 - accuracy: 0.1776\n",
      "63/63 [==============================] - 0s 2ms/step - loss: -1.8857 - accuracy: 0.1855\n",
      "\n",
      "Autoencoder Accuracy using training Data: 0.18\n",
      "Autoencoder: Accuracy using  test Data: 0.19\n"
     ]
    }
   ],
   "source": [
    "acc_train_auto_ann = autoencoder.evaluate(X_train, X_train)[1]\n",
    "acc_test_auto_ann = autoencoder.evaluate(X_test, X_test)[1]\n",
    "\n",
    "print('\\nAutoencoder Accuracy using training Data: {:.2f}' .format(acc_train_auto_ann))\n",
    "print('Autoencoder: Accuracy using  test Data: {:.2f}' .format(acc_test_auto_ann))"
   ]
  },
  {
   "cell_type": "code",
   "execution_count": 243,
   "metadata": {},
   "outputs": [],
   "source": [
    "\n",
    "ALL_Results('AutoEncoder', acc_train_auto_ann, acc_test_auto_ann)"
   ]
  },
  {
   "cell_type": "code",
   "execution_count": 244,
   "metadata": {},
   "outputs": [
    {
     "data": {
      "text/plain": [
       "SVC(kernel='linear', random_state=12)"
      ]
     },
     "execution_count": 244,
     "metadata": {},
     "output_type": "execute_result"
    }
   ],
   "source": [
    "#Support vector machine model\n",
    "\n",
    "from sklearn.svm import SVC\n",
    "\n",
    "\n",
    "sup_vec_mach = SVC(kernel='linear', C=1.0, random_state=12)\n",
    "\n",
    "sup_vec_mach.fit(X_train, y_train)\n"
   ]
  },
  {
   "cell_type": "code",
   "execution_count": 245,
   "metadata": {},
   "outputs": [],
   "source": [
    "y_test_svm = sup_vec_mach.predict(X_test)\n",
    "y_train_svm = sup_vec_mach.predict(X_train)"
   ]
  },
  {
   "cell_type": "code",
   "execution_count": 246,
   "metadata": {
    "scrolled": true
   },
   "outputs": [
    {
     "name": "stdout",
     "output_type": "stream",
     "text": [
      "Classification Report:  \n",
      " \n",
      "               precision    recall  f1-score   support\n",
      "\n",
      "           0       0.70      0.98      0.82       979\n",
      "           1       0.97      0.60      0.74      1021\n",
      "\n",
      "    accuracy                           0.79      2000\n",
      "   macro avg       0.83      0.79      0.78      2000\n",
      "weighted avg       0.84      0.79      0.78      2000\n",
      "\n"
     ]
    }
   ],
   "source": [
    "predicted =sup_vec_mach.predict(X_test)\n",
    "report = classification_report(y_test, predicted)\n",
    "print(\"Classification Report: \", \"\\n\", \"\\n\", report)"
   ]
  },
  {
   "cell_type": "code",
   "execution_count": 247,
   "metadata": {},
   "outputs": [
    {
     "name": "stdout",
     "output_type": "stream",
     "text": [
      "SVM Accuracy using training Data: 0.81\n",
      "SVM Accuracy using  test Data: 0.79\n"
     ]
    }
   ],
   "source": [
    "#computing the accuracy of the model performance\n",
    "acc_train_sup_vec_mach = accuracy_score(y_train,y_train_svm)\n",
    "acc_test_sup_vec_mach = accuracy_score(y_test,y_test_svm)\n",
    "\n",
    "print(\"SVM Accuracy using training Data: {:.2f}\".format(acc_train_sup_vec_mach))\n",
    "print(\"SVM Accuracy using  test Data: {:.2f}\".format(acc_test_sup_vec_mach))"
   ]
  },
  {
   "cell_type": "code",
   "execution_count": 248,
   "metadata": {},
   "outputs": [],
   "source": [
    "\n",
    "ALL_Results('SVM', acc_train_sup_vec_mach, acc_test_sup_vec_mach)"
   ]
  },
  {
   "cell_type": "code",
   "execution_count": 156,
   "metadata": {},
   "outputs": [
    {
     "data": {
      "text/html": [
       "<div>\n",
       "<style scoped>\n",
       "    .dataframe tbody tr th:only-of-type {\n",
       "        vertical-align: middle;\n",
       "    }\n",
       "\n",
       "    .dataframe tbody tr th {\n",
       "        vertical-align: top;\n",
       "    }\n",
       "\n",
       "    .dataframe thead th {\n",
       "        text-align: right;\n",
       "    }\n",
       "</style>\n",
       "<table border=\"1\" class=\"dataframe\">\n",
       "  <thead>\n",
       "    <tr style=\"text-align: right;\">\n",
       "      <th></th>\n",
       "      <th>Machine_learning_Model</th>\n",
       "      <th>Train Accuracy</th>\n",
       "      <th>Test Accuracy</th>\n",
       "    </tr>\n",
       "  </thead>\n",
       "  <tbody>\n",
       "    <tr>\n",
       "      <th>0</th>\n",
       "      <td>Decision Tree</td>\n",
       "      <td>0.815</td>\n",
       "      <td>0.807</td>\n",
       "    </tr>\n",
       "    <tr>\n",
       "      <th>1</th>\n",
       "      <td>Random Forest</td>\n",
       "      <td>0.819</td>\n",
       "      <td>0.810</td>\n",
       "    </tr>\n",
       "    <tr>\n",
       "      <th>2</th>\n",
       "      <td>Multilayer Perceptrons</td>\n",
       "      <td>0.866</td>\n",
       "      <td>0.852</td>\n",
       "    </tr>\n",
       "    <tr>\n",
       "      <th>3</th>\n",
       "      <td>XGBoost</td>\n",
       "      <td>0.869</td>\n",
       "      <td>0.850</td>\n",
       "    </tr>\n",
       "    <tr>\n",
       "      <th>4</th>\n",
       "      <td>AutoEncoder</td>\n",
       "      <td>0.178</td>\n",
       "      <td>0.185</td>\n",
       "    </tr>\n",
       "    <tr>\n",
       "      <th>5</th>\n",
       "      <td>SVM</td>\n",
       "      <td>0.803</td>\n",
       "      <td>0.799</td>\n",
       "    </tr>\n",
       "    <tr>\n",
       "      <th>6</th>\n",
       "      <td>AutoEncoder</td>\n",
       "      <td>0.178</td>\n",
       "      <td>0.185</td>\n",
       "    </tr>\n",
       "    <tr>\n",
       "      <th>7</th>\n",
       "      <td>SVM</td>\n",
       "      <td>0.803</td>\n",
       "      <td>0.799</td>\n",
       "    </tr>\n",
       "  </tbody>\n",
       "</table>\n",
       "</div>"
      ],
      "text/plain": [
       "   Machine_learning_Model  Train Accuracy  Test Accuracy\n",
       "0           Decision Tree           0.815          0.807\n",
       "1           Random Forest           0.819          0.810\n",
       "2  Multilayer Perceptrons           0.866          0.852\n",
       "3                 XGBoost           0.869          0.850\n",
       "4             AutoEncoder           0.178          0.185\n",
       "5                     SVM           0.803          0.799\n",
       "6             AutoEncoder           0.178          0.185\n",
       "7                     SVM           0.803          0.799"
      ]
     },
     "execution_count": 156,
     "metadata": {},
     "output_type": "execute_result"
    }
   ],
   "source": [
    "#dataframe\n",
    "Final_results = pd.DataFrame({ 'Machine_learning_Model': Machine_learning_Model,    \n",
    "    'Train Accuracy':  accuracy_train,\n",
    "  'Test Accuracy':  accuracy_test})\n",
    "Final_results"
   ]
  },
  {
   "cell_type": "code",
   "execution_count": 249,
   "metadata": {},
   "outputs": [],
   "source": [
    "from sklearn.neighbors import KNeighborsClassifier\n",
    "from sklearn.model_selection import GridSearchCV\n"
   ]
  },
  {
   "cell_type": "code",
   "execution_count": 250,
   "metadata": {},
   "outputs": [
    {
     "name": "stdout",
     "output_type": "stream",
     "text": [
      "Classification Report:  \n",
      " \n",
      "               precision    recall  f1-score   support\n",
      "\n",
      "           0       0.79      0.83      0.81       979\n",
      "           1       0.83      0.78      0.81      1021\n",
      "\n",
      "    accuracy                           0.81      2000\n",
      "   macro avg       0.81      0.81      0.81      2000\n",
      "weighted avg       0.81      0.81      0.81      2000\n",
      "\n"
     ]
    }
   ],
   "source": [
    "KNN = KNeighborsClassifier()\n",
    "# train the model using the training sub-dataset\n",
    "KNN.fit(X_train, y_train)\n",
    "\n",
    "predicted = KNN.predict(X_test)\n",
    "report = classification_report(y_test, predicted)\n",
    "print(\"Classification Report: \", \"\\n\", \"\\n\", report)"
   ]
  },
  {
   "cell_type": "code",
   "execution_count": 251,
   "metadata": {},
   "outputs": [],
   "source": [
    "y_test_KNN = KNN.predict(X_test)\n",
    "y_train_KNN = KNN.predict(X_train)"
   ]
  },
  {
   "cell_type": "code",
   "execution_count": 252,
   "metadata": {},
   "outputs": [
    {
     "name": "stdout",
     "output_type": "stream",
     "text": [
      "KNN Accuracy using training Data: 0.83\n",
      "KNN Accuracy using  test Data: 0.81\n"
     ]
    }
   ],
   "source": [
    "#computing the accuracy of the model performance\n",
    "acc_train_KNN = accuracy_score(y_train,y_train_KNN)\n",
    "acc_test_KNN = accuracy_score(y_test,y_test_KNN)\n",
    "\n",
    "print(\"KNN Accuracy using training Data: {:.2f}\".format(acc_train_KNN))\n",
    "print(\"KNN Accuracy using  test Data: {:.2f}\".format(acc_test_KNN))"
   ]
  },
  {
   "cell_type": "code",
   "execution_count": 191,
   "metadata": {},
   "outputs": [
    {
     "name": "stdout",
     "output_type": "stream",
     "text": [
      "Accuracy: 84.950%\n"
     ]
    }
   ],
   "source": [
    "#score the accuracy leve\n",
    "result = KNN.score(X_test, y_test)\n",
    "#print out the results\n",
    "print((\"Accuracy: %.3f%%\") % (result*100.0))"
   ]
  },
  {
   "cell_type": "code",
   "execution_count": 253,
   "metadata": {},
   "outputs": [],
   "source": [
    "ALL_Results('KNN', acc_train_KNN, acc_test_KNN)"
   ]
  },
  {
   "cell_type": "code",
   "execution_count": 254,
   "metadata": {},
   "outputs": [
    {
     "name": "stdout",
     "output_type": "stream",
     "text": [
      "Classification Report:  \n",
      " \n",
      "               precision    recall  f1-score   support\n",
      "\n",
      "           0       0.71      0.95      0.81       979\n",
      "           1       0.93      0.63      0.75      1021\n",
      "\n",
      "    accuracy                           0.79      2000\n",
      "   macro avg       0.82      0.79      0.78      2000\n",
      "weighted avg       0.82      0.79      0.78      2000\n",
      "\n"
     ]
    }
   ],
   "source": [
    "from sklearn.linear_model import LogisticRegression\n",
    "\n",
    "\n",
    "seed = 7\n",
    "\n",
    "log_Reg = LogisticRegression(random_state=seed, max_iter=1000)\n",
    "\n",
    "# train the model using the training sub-dataset\n",
    "\n",
    "log_Reg.fit(X_train, y_train)\n",
    "\n",
    "#print the classification report\n",
    "\n",
    "predicted = log_Reg.predict(X_test)\n",
    "report = classification_report(y_test, predicted)\n",
    "print(\"Classification Report: \", \"\\n\", \"\\n\",report)"
   ]
  },
  {
   "cell_type": "code",
   "execution_count": 255,
   "metadata": {},
   "outputs": [],
   "source": [
    "y_test_log_Reg = log_Reg.predict(X_test)\n",
    "y_train_log_Reg = log_Reg.predict(X_train)"
   ]
  },
  {
   "cell_type": "code",
   "execution_count": 256,
   "metadata": {},
   "outputs": [
    {
     "name": "stdout",
     "output_type": "stream",
     "text": [
      "LogisticRegression Accuracy using training Data: 0.83\n",
      "LogisticRegression Accuracy using  test Data: 0.81\n"
     ]
    }
   ],
   "source": [
    "#computing the accuracy of the model performance\n",
    "acc_train_logre = accuracy_score(y_train,y_train_log_Reg)\n",
    "acc_test_logre = accuracy_score(y_test,y_test_log_Reg)\n",
    "\n",
    "print(\"LogisticRegression Accuracy using training Data: {:.2f}\".format(acc_train_KNN))\n",
    "print(\"LogisticRegression Accuracy using  test Data: {:.2f}\".format(acc_test_KNN))"
   ]
  },
  {
   "cell_type": "code",
   "execution_count": 257,
   "metadata": {},
   "outputs": [],
   "source": [
    "ALL_Results('LogisticRegression', acc_train_logre, acc_test_logre)"
   ]
  },
  {
   "cell_type": "code",
   "execution_count": 258,
   "metadata": {},
   "outputs": [],
   "source": [
    "from keras.models import Sequential\n",
    "from keras import layers\n",
    "\n",
    "input_dim = X_train.shape[1]  # Number of features\n",
    "model = Sequential()\n",
    "model.add(layers.Dense(10, input_dim=input_dim, activation='relu'))\n",
    "model.add(layers.Dense(1, activation='sigmoid'))\n"
   ]
  },
  {
   "cell_type": "code",
   "execution_count": 259,
   "metadata": {},
   "outputs": [
    {
     "name": "stdout",
     "output_type": "stream",
     "text": [
      "Model: \"sequential_4\"\n",
      "_________________________________________________________________\n",
      " Layer (type)                Output Shape              Param #   \n",
      "=================================================================\n",
      " dense_29 (Dense)            (None, 10)                170       \n",
      "                                                                 \n",
      " dense_30 (Dense)            (None, 1)                 11        \n",
      "                                                                 \n",
      "=================================================================\n",
      "Total params: 181\n",
      "Trainable params: 181\n",
      "Non-trainable params: 0\n",
      "_________________________________________________________________\n"
     ]
    }
   ],
   "source": [
    "model.compile(loss='binary_crossentropy', \n",
    "              optimizer='adam', \n",
    "              metrics=['accuracy'])\n",
    "model.summary()\n"
   ]
  },
  {
   "cell_type": "code",
   "execution_count": 260,
   "metadata": {},
   "outputs": [],
   "source": [
    "history = model.fit(X_train, y_train,\n",
    "                     epochs=100,\n",
    "                    verbose=False,\n",
    "                     validation_data=(X_test, y_test),\n",
    "                    batch_size=10)\n"
   ]
  },
  {
   "cell_type": "code",
   "execution_count": 263,
   "metadata": {},
   "outputs": [
    {
     "name": "stdout",
     "output_type": "stream",
     "text": [
      "Training Accuracy: 0.83\n",
      "Testing Accuracy:  0.80\n"
     ]
    }
   ],
   "source": [
    "loss, accuracy= model.evaluate(X_train, y_train, verbose=False)\n",
    "print(\"Training Accuracy: {:.2f}\".format(accuracy))\n",
    "loss, accuracy = model.evaluate(X_test, y_test, verbose=False)\n",
    "print(\"Testing Accuracy:  {:.2f}\".format(accuracy))\n"
   ]
  },
  {
   "cell_type": "code",
   "execution_count": 265,
   "metadata": {},
   "outputs": [],
   "source": [
    "ALL_Results('CNN',accuracy,accuracy)"
   ]
  },
  {
   "cell_type": "code",
   "execution_count": 266,
   "metadata": {},
   "outputs": [
    {
     "data": {
      "text/html": [
       "<div>\n",
       "<style scoped>\n",
       "    .dataframe tbody tr th:only-of-type {\n",
       "        vertical-align: middle;\n",
       "    }\n",
       "\n",
       "    .dataframe tbody tr th {\n",
       "        vertical-align: top;\n",
       "    }\n",
       "\n",
       "    .dataframe thead th {\n",
       "        text-align: right;\n",
       "    }\n",
       "</style>\n",
       "<table border=\"1\" class=\"dataframe\">\n",
       "  <thead>\n",
       "    <tr style=\"text-align: right;\">\n",
       "      <th></th>\n",
       "      <th>Machine_learning_Model</th>\n",
       "      <th>Train Accuracy</th>\n",
       "      <th>Test Accuracy</th>\n",
       "    </tr>\n",
       "  </thead>\n",
       "  <tbody>\n",
       "    <tr>\n",
       "      <th>0</th>\n",
       "      <td>Decision Tree</td>\n",
       "      <td>0.817</td>\n",
       "      <td>0.798</td>\n",
       "    </tr>\n",
       "    <tr>\n",
       "      <th>1</th>\n",
       "      <td>Random Forest</td>\n",
       "      <td>0.825</td>\n",
       "      <td>0.804</td>\n",
       "    </tr>\n",
       "    <tr>\n",
       "      <th>2</th>\n",
       "      <td>Multilayer Perceptrons</td>\n",
       "      <td>0.870</td>\n",
       "      <td>0.844</td>\n",
       "    </tr>\n",
       "    <tr>\n",
       "      <th>3</th>\n",
       "      <td>XGBoost</td>\n",
       "      <td>0.869</td>\n",
       "      <td>0.850</td>\n",
       "    </tr>\n",
       "    <tr>\n",
       "      <th>4</th>\n",
       "      <td>AutoEncoder</td>\n",
       "      <td>0.178</td>\n",
       "      <td>0.185</td>\n",
       "    </tr>\n",
       "    <tr>\n",
       "      <th>5</th>\n",
       "      <td>SVM</td>\n",
       "      <td>0.806</td>\n",
       "      <td>0.786</td>\n",
       "    </tr>\n",
       "    <tr>\n",
       "      <th>6</th>\n",
       "      <td>KNN</td>\n",
       "      <td>0.828</td>\n",
       "      <td>0.806</td>\n",
       "    </tr>\n",
       "    <tr>\n",
       "      <th>7</th>\n",
       "      <td>LogisticRegression</td>\n",
       "      <td>0.810</td>\n",
       "      <td>0.786</td>\n",
       "    </tr>\n",
       "    <tr>\n",
       "      <th>8</th>\n",
       "      <td>CNN</td>\n",
       "      <td>0.803</td>\n",
       "      <td>0.803</td>\n",
       "    </tr>\n",
       "  </tbody>\n",
       "</table>\n",
       "</div>"
      ],
      "text/plain": [
       "   Machine_learning_Model  Train Accuracy  Test Accuracy\n",
       "0           Decision Tree           0.817          0.798\n",
       "1           Random Forest           0.825          0.804\n",
       "2  Multilayer Perceptrons           0.870          0.844\n",
       "3                 XGBoost           0.869          0.850\n",
       "4             AutoEncoder           0.178          0.185\n",
       "5                     SVM           0.806          0.786\n",
       "6                     KNN           0.828          0.806\n",
       "7      LogisticRegression           0.810          0.786\n",
       "8                     CNN           0.803          0.803"
      ]
     },
     "execution_count": 266,
     "metadata": {},
     "output_type": "execute_result"
    }
   ],
   "source": [
    "ALL_results = pd.DataFrame({ 'Machine_learning_Model': Machine_learning_Model,    \n",
    "    'Train Accuracy':  accuracy_train,\n",
    "  'Test Accuracy':  accuracy_test})\n",
    "ALL_results"
   ]
  },
  {
   "cell_type": "code",
   "execution_count": 267,
   "metadata": {},
   "outputs": [
    {
     "data": {
      "text/html": [
       "<div>\n",
       "<style scoped>\n",
       "    .dataframe tbody tr th:only-of-type {\n",
       "        vertical-align: middle;\n",
       "    }\n",
       "\n",
       "    .dataframe tbody tr th {\n",
       "        vertical-align: top;\n",
       "    }\n",
       "\n",
       "    .dataframe thead th {\n",
       "        text-align: right;\n",
       "    }\n",
       "</style>\n",
       "<table border=\"1\" class=\"dataframe\">\n",
       "  <thead>\n",
       "    <tr style=\"text-align: right;\">\n",
       "      <th></th>\n",
       "      <th>Machine_learning_Model</th>\n",
       "      <th>Train Accuracy</th>\n",
       "      <th>Test Accuracy</th>\n",
       "    </tr>\n",
       "  </thead>\n",
       "  <tbody>\n",
       "    <tr>\n",
       "      <th>3</th>\n",
       "      <td>XGBoost</td>\n",
       "      <td>0.869</td>\n",
       "      <td>0.850</td>\n",
       "    </tr>\n",
       "    <tr>\n",
       "      <th>2</th>\n",
       "      <td>Multilayer Perceptrons</td>\n",
       "      <td>0.870</td>\n",
       "      <td>0.844</td>\n",
       "    </tr>\n",
       "    <tr>\n",
       "      <th>6</th>\n",
       "      <td>KNN</td>\n",
       "      <td>0.828</td>\n",
       "      <td>0.806</td>\n",
       "    </tr>\n",
       "    <tr>\n",
       "      <th>1</th>\n",
       "      <td>Random Forest</td>\n",
       "      <td>0.825</td>\n",
       "      <td>0.804</td>\n",
       "    </tr>\n",
       "    <tr>\n",
       "      <th>8</th>\n",
       "      <td>CNN</td>\n",
       "      <td>0.803</td>\n",
       "      <td>0.803</td>\n",
       "    </tr>\n",
       "    <tr>\n",
       "      <th>0</th>\n",
       "      <td>Decision Tree</td>\n",
       "      <td>0.817</td>\n",
       "      <td>0.798</td>\n",
       "    </tr>\n",
       "    <tr>\n",
       "      <th>7</th>\n",
       "      <td>LogisticRegression</td>\n",
       "      <td>0.810</td>\n",
       "      <td>0.786</td>\n",
       "    </tr>\n",
       "    <tr>\n",
       "      <th>5</th>\n",
       "      <td>SVM</td>\n",
       "      <td>0.806</td>\n",
       "      <td>0.786</td>\n",
       "    </tr>\n",
       "    <tr>\n",
       "      <th>4</th>\n",
       "      <td>AutoEncoder</td>\n",
       "      <td>0.178</td>\n",
       "      <td>0.185</td>\n",
       "    </tr>\n",
       "  </tbody>\n",
       "</table>\n",
       "</div>"
      ],
      "text/plain": [
       "   Machine_learning_Model  Train Accuracy  Test Accuracy\n",
       "3                 XGBoost           0.869          0.850\n",
       "2  Multilayer Perceptrons           0.870          0.844\n",
       "6                     KNN           0.828          0.806\n",
       "1           Random Forest           0.825          0.804\n",
       "8                     CNN           0.803          0.803\n",
       "0           Decision Tree           0.817          0.798\n",
       "7      LogisticRegression           0.810          0.786\n",
       "5                     SVM           0.806          0.786\n",
       "4             AutoEncoder           0.178          0.185"
      ]
     },
     "execution_count": 267,
     "metadata": {},
     "output_type": "execute_result"
    }
   ],
   "source": [
    "ALL_results.sort_values(by=['Test Accuracy', 'Train Accuracy'], ascending=False)"
   ]
  },
  {
   "cell_type": "code",
   "execution_count": null,
   "metadata": {},
   "outputs": [],
   "source": []
  }
 ],
 "metadata": {
  "kernelspec": {
   "display_name": "Python 3",
   "language": "python",
   "name": "python3"
  },
  "language_info": {
   "codemirror_mode": {
    "name": "ipython",
    "version": 3
   },
   "file_extension": ".py",
   "mimetype": "text/x-python",
   "name": "python",
   "nbconvert_exporter": "python",
   "pygments_lexer": "ipython3",
   "version": "3.8.5"
  }
 },
 "nbformat": 4,
 "nbformat_minor": 4
}
